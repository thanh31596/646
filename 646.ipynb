{
  "nbformat": 4,
  "nbformat_minor": 0,
  "metadata": {
    "accelerator": "GPU",
    "colab": {
      "name": "646",
      "provenance": [],
      "collapsed_sections": [],
      "machine_shape": "hm",
      "include_colab_link": true
    },
    "interpreter": {
      "hash": "9ce413dc924b0a1c708a4d29a4c6c25e9f1bfa52e4e757147c383f8f69adb01c"
    },
    "kernelspec": {
      "display_name": "Python 3",
      "language": "python",
      "name": "python3"
    },
    "language_info": {
      "codemirror_mode": {
        "name": "ipython",
        "version": 3
      },
      "file_extension": ".py",
      "mimetype": "text/x-python",
      "name": "python",
      "nbconvert_exporter": "python",
      "pygments_lexer": "ipython3",
      "version": "3.8.5"
    }
  },
  "cells": [
    {
      "cell_type": "markdown",
      "metadata": {
        "id": "view-in-github",
        "colab_type": "text"
      },
      "source": [
        "<a href=\"https://colab.research.google.com/github/thanh31596/646/blob/main/646.ipynb\" target=\"_parent\"><img src=\"https://colab.research.google.com/assets/colab-badge.svg\" alt=\"Open In Colab\"/></a>"
      ]
    },
    {
      "cell_type": "code",
      "metadata": {
        "id": "fx874gNC4COA"
      },
      "source": [
        "import PIL \n",
        "from PIL import Image \n",
        "import pandas as pd \n",
        "import numpy as np\n",
        "batch_size = 16 \n",
        "from sklearn.model_selection import train_test_split\n",
        "\n",
        "import tensorflow as tf\n",
        "import tensorflow_datasets as tfds\n",
        "import cv2\n",
        "import os\n",
        "from sklearn.preprocessing import OneHotEncoder\n",
        "import matplotlib.pyplot as plt \n",
        "import numpy as np\n",
        "#The dimension of the images we are going to define is 500x500 \n",
        "import h5py\n"
      ],
      "execution_count": 1,
      "outputs": []
    },
    {
      "cell_type": "markdown",
      "metadata": {
        "id": "HtT_o7g34COB"
      },
      "source": [
        "# 1. PRE-PROCESSING DATA"
      ]
    },
    {
      "cell_type": "code",
      "metadata": {
        "id": "9SubjZYi4COC"
      },
      "source": [
        "labels = ['COVID', 'Normal','Pneumonia']\n",
        "img_size = 50\n",
        "def get_data(data_dir):\n",
        "    data = [] \n",
        "    for label in labels: \n",
        "        path = os.path.join(data_dir, label)\n",
        "        class_num = labels.index(label)\n",
        "        for img in os.listdir(path):\n",
        "            try:\n",
        "                img_arr = cv2.imread(os.path.join(path, img))[...,::-1] #convert BGR to RGB format\n",
        "                resized_arr = cv2.resize(img_arr, (img_size, img_size)) # Reshaping images to preferred size\n",
        "                data.append([resized_arr, class_num])\n",
        "            except Exception as e:\n",
        "                print(e)\n",
        "    return data\n",
        "    #return np.array(data)"
      ],
      "execution_count": 2,
      "outputs": []
    },
    {
      "cell_type": "code",
      "metadata": {
        "colab": {
          "base_uri": "https://localhost:8080/"
        },
        "id": "dMAQhzll4COD",
        "outputId": "fd8b19a7-9f7a-4aa7-8e27-122ffc5fadcf"
      },
      "source": [
        "from google.colab import drive\n",
        "drive.mount('/content/drive')"
      ],
      "execution_count": 3,
      "outputs": [
        {
          "output_type": "stream",
          "name": "stdout",
          "text": [
            "Drive already mounted at /content/drive; to attempt to forcibly remount, call drive.mount(\"/content/drive\", force_remount=True).\n"
          ]
        }
      ]
    },
    {
      "cell_type": "code",
      "metadata": {
        "id": "KNQ6CXTG4COD"
      },
      "source": [
        "# train = pd.read_csv('/content/drive/MyDrive/Colab Notebooks/flat.csv')\n",
        "sample = np.load(\"/content/drive/MyDrive/Colab Notebooks/sample.npy\",allow_pickle=True)\n",
        "label = np.load(\"/content/drive/MyDrive/Colab Notebooks/label.npy\",allow_pickle=True)\n",
        "\n",
        "# train.data.shape\n",
        "# train = h5py.File('/content/drive/MyDrive/Colab Notebooks/data.h5', 'r')\n",
        "train=pd.DataFrame(sample, columns=['flat'])\n",
        "train['label']=label\n",
        "arr=[]\n",
        "for i in train['flat']:\n",
        "  arr.append(i.reshape(50,50,3))\n",
        "train['data']=arr"
      ],
      "execution_count": 4,
      "outputs": []
    },
    {
      "cell_type": "code",
      "metadata": {
        "id": "t_99biuq4COE",
        "colab": {
          "base_uri": "https://localhost:8080/"
        },
        "outputId": "5a0b4c7d-3fdb-4ea9-9314-ddb9ac962fe4"
      },
      "source": [
        "data = pd.DataFrame(train,columns=['data','label'])\n",
        "#data.to_excel('data.xlsx')\n",
        "data.data[0].shape"
      ],
      "execution_count": 5,
      "outputs": [
        {
          "output_type": "execute_result",
          "data": {
            "text/plain": [
              "(50, 50, 3)"
            ]
          },
          "metadata": {},
          "execution_count": 5
        }
      ]
    },
    {
      "cell_type": "code",
      "metadata": {
        "colab": {
          "base_uri": "https://localhost:8080/"
        },
        "id": "44SX_zW-4COE",
        "outputId": "68f79072-3338-46cc-84ba-7f3e6d10e58d"
      },
      "source": [
        "X = data['data'].values\n",
        "y = data['label'].values\n",
        "#For ML \n",
        "X_train, X_test, y_train, y_test = train_test_split(X, y, test_size=0.33)\n",
        "from keras.utils import np_utils\n",
        "from sklearn.preprocessing import LabelEncoder\n",
        "#FOR DL\n",
        "# encode class values as integers\n",
        "# encoder = LabelEncoder()\n",
        "# encoder.fit(y)\n",
        "# encoded_Y = encoder.transform(y)\n",
        "# # convert integers to dummy variables (i.e. one hot encoded)\n",
        "# dummy_y = np_utils.to_categorical(encoded_Y)\n",
        "# X_train, X_test, y_train, y_test = train_test_split(X, dummy_y, test_size=0.33)\n",
        "y_train_label = []\n",
        "\n",
        "for i in y_train: \n",
        "    if i == 0:\n",
        "        y_train_label.append(\"COVID\")\n",
        "    if i == 1:\n",
        "        y_train_label.append(\"Normal\")\n",
        "    if i == 2:\n",
        "        y_train_label.append(\"Pneumonia\")\n",
        "np.unique(y_train)\n"
      ],
      "execution_count": 6,
      "outputs": [
        {
          "output_type": "execute_result",
          "data": {
            "text/plain": [
              "array([0, 1, 2], dtype=object)"
            ]
          },
          "metadata": {},
          "execution_count": 6
        }
      ]
    },
    {
      "cell_type": "code",
      "metadata": {
        "colab": {
          "base_uri": "https://localhost:8080/",
          "height": 125
        },
        "id": "kTCAQQl-4COF",
        "outputId": "0c3710b4-5aea-469a-96f5-84251e9f2a80"
      },
      "source": [
        "fig = plt.figure(figsize=(15,10))\n",
        "label = \"\"\n",
        "for i in range(10):\n",
        "    ax = fig.add_subplot(1, 10, i+1)\n",
        "    ax.imshow(X_train[i])\n",
        "\n",
        "    ax.set_title('label: '+str(y_train_label[i]))\n",
        "\n",
        "    ax.get_xaxis().set_visible(False)\n",
        "    ax.get_yaxis().set_visible(False)\n",
        "\n",
        "fig.tight_layout()\n",
        "plt.show()"
      ],
      "execution_count": 7,
      "outputs": [
        {
          "output_type": "display_data",
          "data": {
            "image/png": "[encoded data removed]",
            "text/plain": [
              "<Figure size 1080x720 with 10 Axes>"
            ]
          },
          "metadata": {
            "needs_background": "light"
          }
        }
      ]
    },
    {
      "cell_type": "markdown",
      "metadata": {
        "id": "crNx8NPq4COF"
      },
      "source": [
        "# 2. METHODS:\n",
        "## A. DEEPLEARNING - CNN: "
      ]
    },
    {
      "cell_type": "code",
      "metadata": {
        "id": "nsZ0XvkP4COG"
      },
      "source": [
        "from tensorflow.keras.models import Sequential,load_model\n",
        "from tensorflow.keras.layers import Dense,Conv2D,Flatten,MaxPooling2D,ZeroPadding2D,Dropout, Activation\n",
        "from tensorflow.keras.callbacks import EarlyStopping,ReduceLROnPlateau"
      ],
      "execution_count": 8,
      "outputs": []
    },
    {
      "cell_type": "code",
      "metadata": {
        "id": "Zj6ObrfB4COG",
        "colab": {
          "base_uri": "https://localhost:8080/"
        },
        "outputId": "deb492d6-47c9-4a41-e58f-eaa5be50bb58"
      },
      "source": [
        "model = Sequential()\n",
        "model.add(Conv2D(32, (2, 2), input_shape=(50,50,3)))\n",
        "model.add(Activation('relu'))\n",
        "model.add(MaxPooling2D(pool_size=(2, 2)))\n",
        "\n",
        "model.add(Conv2D(32, (2, 2)))\n",
        "model.add(Activation('relu'))\n",
        "model.add(MaxPooling2D(pool_size=(2, 2)))\n",
        "\n",
        "model.add(Conv2D(64, (2, 2)))\n",
        "model.add(Activation('relu'))\n",
        "model.add(MaxPooling2D(pool_size=(2, 2)))\n",
        "\n",
        "model.add(Conv2D(32, (2, 2)))\n",
        "model.add(Activation('relu'))\n",
        "model.add(MaxPooling2D(pool_size=(2, 2)))\n",
        "\n",
        "model.add(Flatten())\n",
        "model.add(Dense(64))\n",
        "model.add(Activation('relu'))\n",
        "model.add(Dropout(0.5))\n",
        "model.add(Dense(3))\n",
        "model.add(Activation('softmax'))\n",
        "model.compile(loss='categorical_crossentropy',optimizer='adam',metrics=['accuracy'])\n",
        "model.summary()\n"
      ],
      "execution_count": 9,
      "outputs": [
        {
          "output_type": "stream",
          "name": "stdout",
          "text": [
            "Model: \"sequential\"\n",
            "_________________________________________________________________\n",
            " Layer (type)                Output Shape              Param #   \n",
            "=================================================================\n",
            " conv2d (Conv2D)             (None, 49, 49, 32)        416       \n",
            "                                                                 \n",
            " activation (Activation)     (None, 49, 49, 32)        0         \n",
            "                                                                 \n",
            " max_pooling2d (MaxPooling2D  (None, 24, 24, 32)       0         \n",
            " )                                                               \n",
            "                                                                 \n",
            " conv2d_1 (Conv2D)           (None, 23, 23, 32)        4128      \n",
            "                                                                 \n",
            " activation_1 (Activation)   (None, 23, 23, 32)        0         \n",
            "                                                                 \n",
            " max_pooling2d_1 (MaxPooling  (None, 11, 11, 32)       0         \n",
            " 2D)                                                             \n",
            "                                                                 \n",
            " conv2d_2 (Conv2D)           (None, 10, 10, 64)        8256      \n",
            "                                                                 \n",
            " activation_2 (Activation)   (None, 10, 10, 64)        0         \n",
            "                                                                 \n",
            " max_pooling2d_2 (MaxPooling  (None, 5, 5, 64)         0         \n",
            " 2D)                                                             \n",
            "                                                                 \n",
            " conv2d_3 (Conv2D)           (None, 4, 4, 32)          8224      \n",
            "                                                                 \n",
            " activation_3 (Activation)   (None, 4, 4, 32)          0         \n",
            "                                                                 \n",
            " max_pooling2d_3 (MaxPooling  (None, 2, 2, 32)         0         \n",
            " 2D)                                                             \n",
            "                                                                 \n",
            " flatten (Flatten)           (None, 128)               0         \n",
            "                                                                 \n",
            " dense (Dense)               (None, 64)                8256      \n",
            "                                                                 \n",
            " activation_4 (Activation)   (None, 64)                0         \n",
            "                                                                 \n",
            " dropout (Dropout)           (None, 64)                0         \n",
            "                                                                 \n",
            " dense_1 (Dense)             (None, 3)                 195       \n",
            "                                                                 \n",
            " activation_5 (Activation)   (None, 3)                 0         \n",
            "                                                                 \n",
            "=================================================================\n",
            "Total params: 29,475\n",
            "Trainable params: 29,475\n",
            "Non-trainable params: 0\n",
            "_________________________________________________________________\n"
          ]
        }
      ]
    },
    {
      "cell_type": "code",
      "metadata": {
        "id": "YaatVENk4COH"
      },
      "source": [
        "# from tensorflow.keras.utils import plot_model\n",
        "# plot_model(model,show_shapes=True, show_layer_names=True, rankdir='TB', expand_nested=True)"
      ],
      "execution_count": 10,
      "outputs": []
    },
    {
      "cell_type": "code",
      "metadata": {
        "id": "E7sLqOIq4COH"
      },
      "source": [
        "x_train_tensor=[]\n",
        "for i in X_train:\n",
        "    x_train_tensor.append(tf.convert_to_tensor(i,dtype='float32'))\n",
        "x_test_tensor=[]\n",
        "for i in X_test:\n",
        "    x_test_tensor.append(tf.convert_to_tensor(i,dtype='float32'))\n",
        "y_train_tensor=[]\n",
        "for i in y_train:\n",
        "    y_train_tensor.append(tf.convert_to_tensor(i))\n",
        "\n",
        "y_test_tensor=[]\n",
        "for i in y_test:\n",
        "    y_test_tensor.append(tf.convert_to_tensor(i))\n"
      ],
      "execution_count": 11,
      "outputs": []
    },
    {
      "cell_type": "code",
      "metadata": {
        "id": "0RbQG-C_4COH",
        "colab": {
          "base_uri": "https://localhost:8080/"
        },
        "outputId": "0f4aa653-5c44-4e27-a95b-73ab1347fc24"
      },
      "source": [
        "print(\"x_train:{0}, y_train:{1}, x_test:{2}, y_test:{3}\".format(len(x_train_tensor),len(y_train_tensor),len(x_test_tensor),len(y_test_tensor)))\n",
        "x_list=np.array(x_train_tensor)\n",
        "xtest_list=np.array(x_test_tensor)\n",
        "y_list=np.array(y_train_tensor)\n",
        "y_list=pd.get_dummies(y_list).values\n",
        "ytest_list=np.array(y_test_tensor)\n",
        "ytest_list=pd.get_dummies(ytest_list).values\n",
        "x_train=tf.convert_to_tensor(x_list)\n",
        "x_test=tf.convert_to_tensor(xtest_list)\n",
        "y1_train=tf.convert_to_tensor(y_list)\n",
        "y1_test=tf.convert_to_tensor(ytest_list)\n",
        "stop_early = tf.keras.callbacks.EarlyStopping(monitor='loss', patience=10)\n",
        "callbacks=[stop_early]"
      ],
      "execution_count": 12,
      "outputs": [
        {
          "output_type": "stream",
          "name": "stdout",
          "text": [
            "x_train:10152, y_train:10152, x_test:5001, y_test:5001\n"
          ]
        }
      ]
    },
    {
      "cell_type": "code",
      "metadata": {
        "id": "LfoTU0oZ4COI",
        "colab": {
          "base_uri": "https://localhost:8080/"
        },
        "outputId": "f82abe48-5012-4a02-ba60-778adef85333"
      },
      "source": [
        "history=model.fit(x_train, y1_train, shuffle=True, epochs=50, validation_data=(x_test, y1_test),callbacks=callbacks)              "
      ],
      "execution_count": 13,
      "outputs": [
        {
          "output_type": "stream",
          "name": "stdout",
          "text": [
            "Epoch 1/50\n",
            "318/318 [==============================] - 4s 8ms/step - loss: 0.8895 - accuracy: 0.6636 - val_loss: 0.5587 - val_accuracy: 0.7457\n",
            "Epoch 2/50\n",
            "318/318 [==============================] - 2s 7ms/step - loss: 0.5852 - accuracy: 0.7349 - val_loss: 0.5341 - val_accuracy: 0.7630\n",
            "Epoch 3/50\n",
            "318/318 [==============================] - 2s 7ms/step - loss: 0.5197 - accuracy: 0.7673 - val_loss: 0.4612 - val_accuracy: 0.8074\n",
            "Epoch 4/50\n",
            "318/318 [==============================] - 2s 7ms/step - loss: 0.4793 - accuracy: 0.7901 - val_loss: 0.4799 - val_accuracy: 0.8026\n",
            "Epoch 5/50\n",
            "318/318 [==============================] - 2s 7ms/step - loss: 0.4549 - accuracy: 0.8027 - val_loss: 0.4260 - val_accuracy: 0.8156\n",
            "Epoch 6/50\n",
            "318/318 [==============================] - 2s 7ms/step - loss: 0.4208 - accuracy: 0.8182 - val_loss: 0.4351 - val_accuracy: 0.8202\n",
            "Epoch 7/50\n",
            "318/318 [==============================] - 2s 7ms/step - loss: 0.4073 - accuracy: 0.8252 - val_loss: 0.4012 - val_accuracy: 0.8326\n",
            "Epoch 8/50\n",
            "318/318 [==============================] - 2s 7ms/step - loss: 0.3975 - accuracy: 0.8329 - val_loss: 0.3947 - val_accuracy: 0.8334\n",
            "Epoch 9/50\n",
            "318/318 [==============================] - 2s 7ms/step - loss: 0.3804 - accuracy: 0.8393 - val_loss: 0.3942 - val_accuracy: 0.8420\n",
            "Epoch 10/50\n",
            "318/318 [==============================] - 2s 7ms/step - loss: 0.3667 - accuracy: 0.8518 - val_loss: 0.3988 - val_accuracy: 0.8458\n",
            "Epoch 11/50\n",
            "318/318 [==============================] - 2s 7ms/step - loss: 0.3513 - accuracy: 0.8580 - val_loss: 0.4242 - val_accuracy: 0.8414\n",
            "Epoch 12/50\n",
            "318/318 [==============================] - 2s 7ms/step - loss: 0.3344 - accuracy: 0.8614 - val_loss: 0.4389 - val_accuracy: 0.8224\n",
            "Epoch 13/50\n",
            "318/318 [==============================] - 2s 7ms/step - loss: 0.3159 - accuracy: 0.8761 - val_loss: 0.4154 - val_accuracy: 0.8420\n",
            "Epoch 14/50\n",
            "318/318 [==============================] - 2s 7ms/step - loss: 0.3317 - accuracy: 0.8607 - val_loss: 0.3792 - val_accuracy: 0.8566\n",
            "Epoch 15/50\n",
            "318/318 [==============================] - 2s 7ms/step - loss: 0.3177 - accuracy: 0.8749 - val_loss: 0.3653 - val_accuracy: 0.8550\n",
            "Epoch 16/50\n",
            "318/318 [==============================] - 2s 7ms/step - loss: 0.2972 - accuracy: 0.8786 - val_loss: 0.3705 - val_accuracy: 0.8566\n",
            "Epoch 17/50\n",
            "318/318 [==============================] - 2s 7ms/step - loss: 0.2962 - accuracy: 0.8767 - val_loss: 0.3939 - val_accuracy: 0.8418\n",
            "Epoch 18/50\n",
            "318/318 [==============================] - 2s 7ms/step - loss: 0.2745 - accuracy: 0.8872 - val_loss: 0.3677 - val_accuracy: 0.8642\n",
            "Epoch 19/50\n",
            "318/318 [==============================] - 2s 7ms/step - loss: 0.2670 - accuracy: 0.8938 - val_loss: 0.3891 - val_accuracy: 0.8488\n",
            "Epoch 20/50\n",
            "318/318 [==============================] - 2s 7ms/step - loss: 0.2615 - accuracy: 0.8973 - val_loss: 0.3581 - val_accuracy: 0.8700\n",
            "Epoch 21/50\n",
            "318/318 [==============================] - 2s 7ms/step - loss: 0.2460 - accuracy: 0.9054 - val_loss: 0.4142 - val_accuracy: 0.8662\n",
            "Epoch 22/50\n",
            "318/318 [==============================] - 2s 7ms/step - loss: 0.2487 - accuracy: 0.9006 - val_loss: 0.4115 - val_accuracy: 0.8602\n",
            "Epoch 23/50\n",
            "318/318 [==============================] - 2s 7ms/step - loss: 0.2397 - accuracy: 0.9063 - val_loss: 0.3521 - val_accuracy: 0.8750\n",
            "Epoch 24/50\n",
            "318/318 [==============================] - 2s 7ms/step - loss: 0.2188 - accuracy: 0.9122 - val_loss: 0.3933 - val_accuracy: 0.8736\n",
            "Epoch 25/50\n",
            "318/318 [==============================] - 2s 7ms/step - loss: 0.2118 - accuracy: 0.9140 - val_loss: 0.3824 - val_accuracy: 0.8750\n",
            "Epoch 26/50\n",
            "318/318 [==============================] - 2s 7ms/step - loss: 0.2027 - accuracy: 0.9186 - val_loss: 0.4014 - val_accuracy: 0.8730\n",
            "Epoch 27/50\n",
            "318/318 [==============================] - 2s 7ms/step - loss: 0.2049 - accuracy: 0.9192 - val_loss: 0.3963 - val_accuracy: 0.8738\n",
            "Epoch 28/50\n",
            "318/318 [==============================] - 2s 7ms/step - loss: 0.1991 - accuracy: 0.9218 - val_loss: 0.3841 - val_accuracy: 0.8782\n",
            "Epoch 29/50\n",
            "318/318 [==============================] - 2s 7ms/step - loss: 0.1869 - accuracy: 0.9303 - val_loss: 0.4044 - val_accuracy: 0.8716\n",
            "Epoch 30/50\n",
            "318/318 [==============================] - 2s 7ms/step - loss: 0.1797 - accuracy: 0.9279 - val_loss: 0.4150 - val_accuracy: 0.8662\n",
            "Epoch 31/50\n",
            "318/318 [==============================] - 2s 7ms/step - loss: 0.1839 - accuracy: 0.9297 - val_loss: 0.4308 - val_accuracy: 0.8684\n",
            "Epoch 32/50\n",
            "318/318 [==============================] - 2s 7ms/step - loss: 0.1902 - accuracy: 0.9277 - val_loss: 0.4300 - val_accuracy: 0.8744\n",
            "Epoch 33/50\n",
            "318/318 [==============================] - 2s 7ms/step - loss: 0.1637 - accuracy: 0.9362 - val_loss: 0.4420 - val_accuracy: 0.8830\n",
            "Epoch 34/50\n",
            "318/318 [==============================] - 2s 7ms/step - loss: 0.1738 - accuracy: 0.9329 - val_loss: 0.4468 - val_accuracy: 0.8688\n",
            "Epoch 35/50\n",
            "318/318 [==============================] - 2s 7ms/step - loss: 0.1584 - accuracy: 0.9378 - val_loss: 0.4682 - val_accuracy: 0.8768\n",
            "Epoch 36/50\n",
            "318/318 [==============================] - 2s 7ms/step - loss: 0.1495 - accuracy: 0.9429 - val_loss: 0.4995 - val_accuracy: 0.8716\n",
            "Epoch 37/50\n",
            "318/318 [==============================] - 2s 7ms/step - loss: 0.1586 - accuracy: 0.9394 - val_loss: 0.4775 - val_accuracy: 0.8688\n",
            "Epoch 38/50\n",
            "318/318 [==============================] - 2s 7ms/step - loss: 0.1492 - accuracy: 0.9428 - val_loss: 0.4554 - val_accuracy: 0.8718\n",
            "Epoch 39/50\n",
            "318/318 [==============================] - 2s 7ms/step - loss: 0.1460 - accuracy: 0.9434 - val_loss: 0.4582 - val_accuracy: 0.8656\n",
            "Epoch 40/50\n",
            "318/318 [==============================] - 2s 7ms/step - loss: 0.1439 - accuracy: 0.9450 - val_loss: 0.4927 - val_accuracy: 0.8694\n",
            "Epoch 41/50\n",
            "318/318 [==============================] - 2s 7ms/step - loss: 0.1353 - accuracy: 0.9486 - val_loss: 0.4772 - val_accuracy: 0.8826\n",
            "Epoch 42/50\n",
            "318/318 [==============================] - 2s 7ms/step - loss: 0.1268 - accuracy: 0.9508 - val_loss: 0.4851 - val_accuracy: 0.8778\n",
            "Epoch 43/50\n",
            "318/318 [==============================] - 2s 7ms/step - loss: 0.1316 - accuracy: 0.9490 - val_loss: 0.5272 - val_accuracy: 0.8718\n",
            "Epoch 44/50\n",
            "318/318 [==============================] - 2s 7ms/step - loss: 0.1242 - accuracy: 0.9519 - val_loss: 0.5419 - val_accuracy: 0.8672\n",
            "Epoch 45/50\n",
            "318/318 [==============================] - 2s 7ms/step - loss: 0.1333 - accuracy: 0.9497 - val_loss: 0.4986 - val_accuracy: 0.8806\n",
            "Epoch 46/50\n",
            "318/318 [==============================] - 2s 7ms/step - loss: 0.1235 - accuracy: 0.9519 - val_loss: 0.5083 - val_accuracy: 0.8690\n",
            "Epoch 47/50\n",
            "318/318 [==============================] - 2s 7ms/step - loss: 0.1118 - accuracy: 0.9589 - val_loss: 0.5769 - val_accuracy: 0.8738\n",
            "Epoch 48/50\n",
            "318/318 [==============================] - 2s 7ms/step - loss: 0.1182 - accuracy: 0.9552 - val_loss: 0.6200 - val_accuracy: 0.8672\n",
            "Epoch 49/50\n",
            "318/318 [==============================] - 2s 7ms/step - loss: 0.1180 - accuracy: 0.9532 - val_loss: 0.5100 - val_accuracy: 0.8664\n",
            "Epoch 50/50\n",
            "318/318 [==============================] - 2s 7ms/step - loss: 0.1088 - accuracy: 0.9569 - val_loss: 0.5429 - val_accuracy: 0.8800\n"
          ]
        }
      ]
    },
    {
      "cell_type": "code",
      "metadata": {
        "id": "kP0RQr5o4COI",
        "colab": {
          "base_uri": "https://localhost:8080/",
          "height": 435
        },
        "outputId": "fe4d7c5f-e3a1-4261-f26e-bed064a8008f"
      },
      "source": [
        "acc = history.history['accuracy']\n",
        "val_acc = history.history['val_accuracy']\n",
        "loss = history.history['loss']\n",
        "val_loss = history.history['val_loss']\n",
        "\n",
        "epochs_range = range(50)\n",
        "\n",
        "plt.figure(figsize=(15, 15))\n",
        "plt.title('CNN')\n",
        "plt.subplot(2, 2, 1)\n",
        "plt.plot(epochs_range, acc,'v', label='Training Accuracy')\n",
        "plt.plot(epochs_range, val_acc,'o', label='Validation Accuracy')\n",
        "plt.legend(loc='lower right')\n",
        "plt.title('Training accuracy (mean = {0:.2f}%) and Validation Accuracy (mean = {1:.2f}%)'.format(np.mean(history.history['accuracy']),np.mean(history.history['val_accuracy'])))\n",
        "\n",
        "plt.subplot(2, 2, 2)\n",
        "# yerr = np.linspace(0.05, 0.2, 10)\n",
        "# plt.errorbar(epochs_range, loss, yerr=yerr, label='both limits (default)')\n",
        "\n",
        "# plt.errorbar(epochs_range, loss, yerr=yerr, uplims=True, label='uplims=True')\n",
        "plt.plot(epochs_range, loss, label='Training Loss')\n",
        "plt.plot(epochs_range, val_loss, label='Validation Loss')\n",
        "plt.legend(loc='upper right')\n",
        "plt.title('Training and Validation Loss')\n",
        "\n",
        "\n",
        "plt.show()"
      ],
      "execution_count": 157,
      "outputs": [
        {
          "output_type": "display_data",
          "data": {
            "image/png": "[encoded data removed]",
            "text/plain": [
              "<Figure size 1080x1080 with 2 Axes>"
            ]
          },
          "metadata": {
            "needs_background": "light"
          }
        }
      ]
    },
    {
      "cell_type": "code",
      "metadata": {
        "id": "Yr8DJ-pA4COI",
        "colab": {
          "base_uri": "https://localhost:8080/"
        },
        "outputId": "2836d97c-ec79-417c-c7b7-47aab4f25140"
      },
      "source": [
        "y_pred_cnn = model.predict(x_test)\n",
        "y_pred_cnn"
      ],
      "execution_count": 15,
      "outputs": [
        {
          "output_type": "execute_result",
          "data": {
            "text/plain": [
              "array([[2.6428188e-06, 2.1048952e-03, 9.9789244e-01],\n",
              "       [3.8188759e-06, 9.9999619e-01, 3.2631799e-13],\n",
              "       [4.3681683e-03, 9.9563181e-01, 2.5650921e-09],\n",
              "       ...,\n",
              "       [9.9923050e-01, 7.6950045e-04, 4.5481170e-09],\n",
              "       [5.2344097e-12, 1.0000000e+00, 9.0204637e-33],\n",
              "       [8.1152864e-02, 9.1884720e-01, 1.3935134e-08]], dtype=float32)"
            ]
          },
          "metadata": {},
          "execution_count": 15
        }
      ]
    },
    {
      "cell_type": "code",
      "metadata": {
        "id": "Ian-MWO34COJ",
        "colab": {
          "base_uri": "https://localhost:8080/"
        },
        "outputId": "f67eef10-1dfa-402a-eec5-945cd9e14b19"
      },
      "source": [
        "y_round=np.round(y_pred_cnn)\n",
        "converted_y=[]\n",
        "for i in y_round:\n",
        "    converted_y.append(np.argmax(i))\n",
        "converted_y=np.array(converted_y)\n",
        "converted_y.shape"
      ],
      "execution_count": 16,
      "outputs": [
        {
          "output_type": "execute_result",
          "data": {
            "text/plain": [
              "(5001,)"
            ]
          },
          "metadata": {},
          "execution_count": 16
        }
      ]
    },
    {
      "cell_type": "code",
      "metadata": {
        "id": "o6KTVPZo4COJ"
      },
      "source": [
        "\n"
      ],
      "execution_count": 16,
      "outputs": []
    },
    {
      "cell_type": "code",
      "metadata": {
        "id": "p538eBZw4COJ",
        "colab": {
          "base_uri": "https://localhost:8080/"
        },
        "outputId": "aeabdca8-3215-4f35-e7cc-c9a0f6b6c384"
      },
      "source": [
        "from mlxtend.plotting import plot_decision_regions\n",
        "np.unique(converted_y)"
      ],
      "execution_count": 17,
      "outputs": [
        {
          "output_type": "execute_result",
          "data": {
            "text/plain": [
              "array([0, 1, 2])"
            ]
          },
          "metadata": {},
          "execution_count": 17
        }
      ]
    },
    {
      "cell_type": "code",
      "metadata": {
        "id": "MuxRDMH64COJ"
      },
      "source": [
        "from sklearn.metrics import confusion_matrix\n",
        "a = [] \n",
        "for i in y_test:\n",
        "    a.append(i)\n",
        "a = np.array(a)\n",
        "\n"
      ],
      "execution_count": 18,
      "outputs": []
    },
    {
      "cell_type": "code",
      "metadata": {
        "id": "d9s2-zcQ4COK"
      },
      "source": [
        "cm=confusion_matrix(a,converted_y)\n",
        "results = pd.DataFrame()\n",
        "results['true']=y_test\n",
        "results['CNN']=converted_y"
      ],
      "execution_count": 19,
      "outputs": []
    },
    {
      "cell_type": "code",
      "metadata": {
        "id": "d1fkVZQr4COK",
        "colab": {
          "base_uri": "https://localhost:8080/",
          "height": 467
        },
        "outputId": "cd83f793-0f56-4eaf-9a2d-4edd974868d3"
      },
      "source": [
        "def plot_confusion_matrix(cm,\n",
        "                          target_names,\n",
        "                          title='Confusion matrix',\n",
        "                          cmap=None,\n",
        "                          normalize=True):\n",
        "    \"\"\"\n",
        "    given a sklearn confusion matrix (cm), make a nice plot\n",
        "\n",
        "    Arguments\n",
        "    ---------\n",
        "    cm:           confusion matrix from sklearn.metrics.confusion_matrix\n",
        "\n",
        "    target_names: given classification classes such as [0, 1, 2]\n",
        "                  the class names, for example: ['high', 'medium', 'low']\n",
        "\n",
        "    title:        the text to display at the top of the matrix\n",
        "\n",
        "    cmap:         the gradient of the values displayed from matplotlib.pyplot.cm\n",
        "                  see http://matplotlib.org/examples/color/colormaps_reference.html\n",
        "                  plt.get_cmap('jet') or plt.cm.Blues\n",
        "\n",
        "    normalize:    If False, plot the raw numbers\n",
        "                  If True, plot the proportions\n",
        "\n",
        "    Usage\n",
        "    -----\n",
        "    plot_confusion_matrix(cm           = cm,                  # confusion matrix created by\n",
        "                                                              # sklearn.metrics.confusion_matrix\n",
        "                          normalize    = True,                # show proportions\n",
        "                          target_names = y_labels_vals,       # list of names of the classes\n",
        "                          title        = best_estimator_name) # title of graph\n",
        "\n",
        "    Citiation\n",
        "    ---------\n",
        "    http://scikit-learn.org/stable/auto_examples/model_selection/plot_confusion_matrix.html\n",
        "\n",
        "    \"\"\"\n",
        "    import matplotlib.pyplot as plt\n",
        "    import numpy as np\n",
        "    import itertools\n",
        "\n",
        "    accuracy = np.trace(cm) / float(np.sum(cm))\n",
        "    misclass = 1 - accuracy\n",
        "\n",
        "    if cmap is None:\n",
        "        cmap = plt.get_cmap('BuGn')\n",
        "\n",
        "    plt.figure(figsize=(8, 6))\n",
        "    plt.imshow(cm, interpolation='nearest', cmap=cmap)\n",
        "    plt.title(title)\n",
        "    plt.colorbar()\n",
        "\n",
        "    if target_names is not None:\n",
        "        tick_marks = np.arange(len(target_names))\n",
        "        plt.xticks(tick_marks, target_names, rotation=45)\n",
        "        plt.yticks(tick_marks, target_names)\n",
        "\n",
        "    if normalize:\n",
        "        cm = cm.astype('float') / cm.sum(axis=1)[:, np.newaxis]\n",
        "\n",
        "\n",
        "    thresh = cm.max() / 1.5 if normalize else cm.max() / 2\n",
        "    for i, j in itertools.product(range(cm.shape[0]), range(cm.shape[1])):\n",
        "        if normalize:\n",
        "            plt.text(j, i, \"{:0.4f}\".format(cm[i, j]),\n",
        "                     horizontalalignment=\"center\",\n",
        "                     color=\"white\" if cm[i, j] > thresh else \"black\")\n",
        "        else:\n",
        "            plt.text(j, i, \"{:,}\".format(cm[i, j]),\n",
        "                     horizontalalignment=\"center\",\n",
        "                     color=\"white\" if cm[i, j] > thresh else \"black\")\n",
        "\n",
        "\n",
        "    plt.tight_layout()\n",
        "    plt.ylabel('True label')\n",
        "    plt.xlabel('Predicted label\\naccuracy={:0.4f}; misclass={:0.4f}'.format(accuracy, misclass))\n",
        "    plt.show()\n",
        "  \n",
        "plot_confusion_matrix(cm,target_names=['COVID','Normal','Pneumonia'],title='Confusion Matrix For CNN',cmap='Dark2_r')"
      ],
      "execution_count": 147,
      "outputs": [
        {
          "output_type": "display_data",
          "data": {
            "image/png": "[encoded data removed]",
            "text/plain": [
              "<Figure size 576x432 with 2 Axes>"
            ]
          },
          "metadata": {
            "needs_background": "light"
          }
        }
      ]
    },
    {
      "cell_type": "markdown",
      "metadata": {
        "id": "8SoBOvfE4COK"
      },
      "source": [
        "# B. ML-BASED: Random Forest "
      ]
    },
    {
      "cell_type": "code",
      "metadata": {
        "id": "LwWJ16yQ4COK"
      },
      "source": [
        "from sklearn.ensemble import RandomForestClassifier\n"
      ],
      "execution_count": 21,
      "outputs": []
    },
    {
      "cell_type": "code",
      "metadata": {
        "id": "p2ZQA7uJ4COL"
      },
      "source": [
        "# clf  = RandomForestClassifier(n_estimators=10)\n",
        "x_train_flat=[]\n",
        "for i in X_train:\n",
        "    x_train_flat.append(i.flatten())\n",
        "x_test_flat=[]\n",
        "for i in X_test:\n",
        "    x_test_flat.append(i.flatten())\n",
        "y_train_binary = []\n",
        "for i in y_train: \n",
        "    if i>0: \n",
        "        y_train_binary.append(1)"
      ],
      "execution_count": 22,
      "outputs": []
    },
    {
      "cell_type": "code",
      "metadata": {
        "colab": {
          "base_uri": "https://localhost:8080/"
        },
        "id": "MPPXAmAKsP3L",
        "outputId": "fbba0f16-89eb-4626-b66b-563ff3911749"
      },
      "source": [
        "y_train_rf= np.asarray(y_train, dtype=\"int\")\n",
        "x_train_flat =np.array(x_train_flat)\n",
        "classifier = RandomForestClassifier(n_estimators = 10, criterion = 'entropy', random_state = 42)\n",
        "classifier.fit(x_train_flat, y_train_rf)"
      ],
      "execution_count": 23,
      "outputs": [
        {
          "output_type": "execute_result",
          "data": {
            "text/plain": [
              "RandomForestClassifier(bootstrap=True, ccp_alpha=0.0, class_weight=None,\n",
              "                       criterion='entropy', max_depth=None, max_features='auto',\n",
              "                       max_leaf_nodes=None, max_samples=None,\n",
              "                       min_impurity_decrease=0.0, min_impurity_split=None,\n",
              "                       min_samples_leaf=1, min_samples_split=2,\n",
              "                       min_weight_fraction_leaf=0.0, n_estimators=10,\n",
              "                       n_jobs=None, oob_score=False, random_state=42, verbose=0,\n",
              "                       warm_start=False)"
            ]
          },
          "metadata": {},
          "execution_count": 23
        }
      ]
    },
    {
      "cell_type": "code",
      "metadata": {
        "id": "KTbYKlyP4COL"
      },
      "source": [
        "# from sklearn.model_selection import RandomizedSearchCV\n",
        "# # Number of trees in random forest\n",
        "# n_estimators = [int(x) for x in np.linspace(start = 200, stop = 1000, num = 100)]\n",
        "# # Number of features to consider at every split\n",
        "# max_features = ['auto', 'sqrt']\n",
        "# # Maximum number of levels in tree\n",
        "# max_depth = [int(x) for x in np.linspace(10, 110, num = 11)]\n",
        "# max_depth.append(None)\n",
        "# # Minimum number of samples required to split a node\n",
        "# min_samples_split = [2, 5, 10]\n",
        "# # Minimum number of samples required at each leaf node\n",
        "# min_samples_leaf = [1, 2, 4]\n",
        "# # Method of selecting samples for training each tree\n",
        "# bootstrap = [True, False]\n",
        "# # Create the random grid\n",
        "# random_grid = {'n_estimators': n_estimators,\n",
        "#                'max_features': max_features,\n",
        "#                'max_depth': max_depth,\n",
        "#                'min_samples_split': min_samples_split,\n",
        "#                'min_samples_leaf': min_samples_leaf,\n",
        "#                'bootstrap': bootstrap}\n",
        "# # Use the random grid to search for best hyperparameters\n",
        "# # First create the base model to tune\n",
        "# rf = RandomForestClassifier()\n",
        "# # Random search of parameters, using 3 fold cross validation, \n",
        "# # search across 100 different combinations, and use all available cores\n",
        "# rf_random = RandomizedSearchCV(estimator = rf, param_distributions = random_grid, n_iter = 50, cv = 3, verbose=2, random_state=42, n_jobs = -1)\n",
        "# # Fit the random search model\n",
        "# rf_random.fit(x_train_flat, y_train_rf)"
      ],
      "execution_count": 24,
      "outputs": []
    },
    {
      "cell_type": "code",
      "metadata": {
        "id": "hBhw7Rfo4COL"
      },
      "source": [
        "# # from sklearn.utils import shuffle\n",
        "# # X_ = X.reshape(X.shape[0]*X.shape[1],X.shape[2]).T\n",
        "# # y_ = y.reshape(y.shape[0],)\n",
        "# # X, y = shuffle(X, y, random_state=42)\n",
        "# x_train_flat=[]\n",
        "# for i in X_train:\n",
        "#     x_train_flat.append(i.flatten())\n",
        "# x_test_flat=[]\n",
        "# for i in X_test:\n",
        "#     x_test_flat.append(i.flatten())"
      ],
      "execution_count": 25,
      "outputs": []
    },
    {
      "cell_type": "code",
      "metadata": {
        "id": "IJ6HnONn4COL"
      },
      "source": [
        "# clf.fit(x_train_flat, y_train)\n",
        "y_test_rf= np.asarray(y_test, dtype=\"int\")"
      ],
      "execution_count": 26,
      "outputs": []
    },
    {
      "cell_type": "code",
      "metadata": {
        "id": "6vwfiQt54COM",
        "colab": {
          "base_uri": "https://localhost:8080/"
        },
        "outputId": "2d5dda2c-3f50-43f4-b883-be1fbad210cd"
      },
      "source": [
        "from sklearn.metrics import accuracy_score,f1_score,plot_precision_recall_curve,plot_roc_curve,classification_report, confusion_matrix\n",
        "\n",
        "preds = classifier.predict(x_test_flat)\n",
        "print(\"Accuracy:\", accuracy_score(y_test_rf,preds))"
      ],
      "execution_count": 27,
      "outputs": [
        {
          "output_type": "stream",
          "name": "stdout",
          "text": [
            "Accuracy: 0.8970205958808238\n"
          ]
        }
      ]
    },
    {
      "cell_type": "code",
      "metadata": {
        "id": "Qdz4tJKs4COM"
      },
      "source": [
        "# from sklearn.model_selection import RandomizedSearchCV\n",
        "# from pprint import pprint\n",
        "# # Number of trees in random forest\n",
        "# n_estimators = [int(x) for x in np.linspace(start = 10, stop = 50, num = 10)]\n",
        "# # Number of features to consider at every split\n",
        "# max_features = ['auto', 'sqrt']\n",
        "# # Maximum number of levels in tree\n",
        "# max_depth = [int(x) for x in np.linspace(10, 15, num = 11)]\n",
        "# max_depth.append(None)\n",
        "# # Minimum number of samples required to split a node\n",
        "# min_samples_split = [2, 5, 10]\n",
        "# # Minimum number of samples required at each leaf node\n",
        "# min_samples_leaf = [1, 2, 4]\n",
        "# # Method of selecting samples for training each tree\n",
        "# bootstrap = [True, False]\n",
        "# # Create the random grid\n",
        "# random_grid = {'n_estimators': n_estimators,\n",
        "#                'max_features': max_features,\n",
        "#                'max_depth': max_depth,\n",
        "#                'min_samples_split': min_samples_split,\n",
        "#                'min_samples_leaf': min_samples_leaf,\n",
        "#                'bootstrap': bootstrap}\n",
        "# pprint(random_grid)\n",
        "# # Use the random grid to search for best hyperparameters\n",
        "# # First create the base model to tune\n",
        "# rf = RandomForestClassifier(n_estimators=10)\n",
        "# # Random search of parameters, using 3 fold cross validation, \n",
        "# # search across 100 different combinations, and use all available cores\n",
        "# rf_random = RandomizedSearchCV(estimator = rf, param_distributions = random_grid, n_iter = 100, cv = 3, verbose=2, random_state=42, n_jobs = -1)\n",
        "# # Fit the random search model\n",
        "# rf_random.fit(x_train_flat, y_train)"
      ],
      "execution_count": 28,
      "outputs": []
    },
    {
      "cell_type": "markdown",
      "metadata": {
        "id": "VeZqYNKK4COM"
      },
      "source": [
        "## C. ML-BASED SVM"
      ]
    },
    {
      "cell_type": "code",
      "metadata": {
        "id": "2hVnX8L44CON"
      },
      "source": [
        "from sklearn import svm\n",
        "from sklearn.model_selection import GridSearchCV\n",
        " \n",
        "# # defining parameter range\n",
        "# param_grid = {'C': [0.1, 1, 10, 100, 1000],\n",
        "#               'gamma': [1, 0.1, 0.01, 0.001, 0.0001],\n",
        "#               'kernel': ['rbf']}\n",
        " \n",
        "\n",
        "# clf_svm = svm.SVC()\n",
        "# grid = GridSearchCV(clf_svm, param_grid, refit = True, verbose = 3)\n",
        "# clf_svm.fit(x_train_flat, y_train_rf)\n",
        "\n",
        "# # print best parameter after tuning\n",
        "# print(grid.best_params_)\n",
        " \n",
        "# # print how our model looks after hyper-parameter tuning\n",
        "# print(grid.best_estimator_)"
      ],
      "execution_count": 29,
      "outputs": []
    },
    {
      "cell_type": "code",
      "metadata": {
        "id": "gh75lABg4CON"
      },
      "source": [
        ""
      ],
      "execution_count": 30,
      "outputs": []
    },
    {
      "cell_type": "code",
      "metadata": {
        "id": "4AxpBaz8CJPW"
      },
      "source": [
        "model = svm.SVC()\n",
        "model.fit(np.array(x_train_flat)[:1000], y_train_rf[:1000])\n",
        " \n",
        "# print prediction results\n",
        "predictions = model.predict(x_test_flat)\n"
      ],
      "execution_count": 31,
      "outputs": []
    },
    {
      "cell_type": "code",
      "metadata": {
        "id": "B_glMPY44CON",
        "colab": {
          "base_uri": "https://localhost:8080/"
        },
        "outputId": "1b9352f0-c272-4132-acfd-f0e8965f4398"
      },
      "source": [
        "print(classification_report(y_test_rf, predictions))"
      ],
      "execution_count": 32,
      "outputs": [
        {
          "output_type": "stream",
          "name": "stdout",
          "text": [
            "              precision    recall  f1-score   support\n",
            "\n",
            "           0       0.76      0.54      0.63      1127\n",
            "           1       0.85      0.94      0.89      3439\n",
            "           2       0.88      0.81      0.84       435\n",
            "\n",
            "    accuracy                           0.84      5001\n",
            "   macro avg       0.83      0.76      0.79      5001\n",
            "weighted avg       0.83      0.84      0.83      5001\n",
            "\n"
          ]
        }
      ]
    },
    {
      "cell_type": "code",
      "metadata": {
        "id": "Xl3uqkPtFoX3"
      },
      "source": [
        "results['SVM']=predictions\n",
        "results['RandomForest'] =preds"
      ],
      "execution_count": 33,
      "outputs": []
    },
    {
      "cell_type": "markdown",
      "metadata": {
        "id": "M6gbo7lQ4CON"
      },
      "source": [
        "## D. VGG network: "
      ]
    },
    {
      "cell_type": "code",
      "metadata": {
        "id": "7HZY84qQ4CON"
      },
      "source": [
        ""
      ],
      "execution_count": 33,
      "outputs": []
    },
    {
      "cell_type": "markdown",
      "metadata": {
        "id": "_d9HO2_14CON"
      },
      "source": [
        "\n"
      ]
    },
    {
      "cell_type": "code",
      "metadata": {
        "id": "Ew9yjMvO4CON",
        "colab": {
          "base_uri": "https://localhost:8080/"
        },
        "outputId": "254ed157-3743-41cb-c9da-e5dab0fd2f95"
      },
      "source": [
        "vgg = Sequential()\n",
        "vgg.add(ZeroPadding2D((1,1),input_shape=(50,50, 3)))\n",
        "vgg.add(Conv2D(32, (3, 3), activation='relu'))\n",
        "vgg.add(ZeroPadding2D((1,1)))\n",
        "vgg.add(Conv2D(32, (3, 3), activation='relu'))\n",
        "vgg.add(MaxPooling2D((2,2), strides=(2,2)))\n",
        " \n",
        "vgg.add(ZeroPadding2D((1,1)))\n",
        "vgg.add(Conv2D(64, (3, 3), activation='relu'))\n",
        "vgg.add(ZeroPadding2D((1,1)))\n",
        "vgg.add(Conv2D(64, (3, 3), activation='relu'))\n",
        "vgg.add(MaxPooling2D((2,2), strides=(2,2)))\n",
        " \n",
        "vgg.add(ZeroPadding2D((1,1)))\n",
        "vgg.add(Conv2D(64, (3, 3), activation='relu'))\n",
        "vgg.add(ZeroPadding2D((1,1)))\n",
        "vgg.add(Conv2D(64, (3, 3), activation='relu'))\n",
        "vgg.add(ZeroPadding2D((1,1)))\n",
        "vgg.add(Conv2D(64, (3, 3), activation='relu'))\n",
        "vgg.add(MaxPooling2D((2,2), strides=(2,2)))\n",
        " \n",
        "vgg.add(ZeroPadding2D((1,1)))\n",
        "vgg.add(Conv2D(128, (3, 3), activation='relu'))\n",
        "vgg.add(ZeroPadding2D((1,1)))\n",
        "vgg.add(Conv2D(128, (3, 3), activation='relu'))\n",
        "vgg.add(ZeroPadding2D((1,1)))\n",
        "vgg.add(Conv2D(128, (3, 3), activation='relu'))\n",
        "vgg.add(MaxPooling2D((2,2), strides=(2,2)))\n",
        " \n",
        "vgg.add(ZeroPadding2D((1,1)))\n",
        "vgg.add(Conv2D(128, (3, 3), activation='relu'))\n",
        "vgg.add(ZeroPadding2D((1,1)))\n",
        "vgg.add(Conv2D(128, (3, 3), activation='relu'))\n",
        "vgg.add(ZeroPadding2D((1,1)))\n",
        "vgg.add(Conv2D(128, (3, 3), activation='relu'))\n",
        "vgg.add(MaxPooling2D((2,2), strides=(2,2)))\n",
        " \n",
        "# vgg.add(Conv2D(128, (7, 7), activation='relu'))\n",
        "# vgg.add(Dropout(0.5))\n",
        "# vgg.add(Conv2D(128, (1, 1), activation='relu'))\n",
        "vgg.add(Dropout(0.5))\n",
        "vgg.add(Conv2D(3, (1, 1)))\n",
        "vgg.add(Flatten())\n",
        "vgg.add(Dense(64))\n",
        "vgg.add(Activation('relu'))\n",
        "vgg.add(Dropout(0.5))\n",
        "vgg.add(Dense(3))\n",
        "vgg.add(Activation('softmax'))\n",
        "vgg.compile(optimizer = 'adam', loss = 'categorical_crossentropy', metrics = ['accuracy'])\n",
        "vgg_history=vgg.fit(x_train, y1_train, shuffle=False, epochs=50, validation_data=(x_test, y1_test))"
      ],
      "execution_count": 34,
      "outputs": [
        {
          "output_type": "stream",
          "name": "stdout",
          "text": [
            "Epoch 1/50\n",
            "318/318 [==============================] - 7s 16ms/step - loss: 0.7177 - accuracy: 0.6564 - val_loss: 0.5730 - val_accuracy: 0.7205\n",
            "Epoch 2/50\n",
            "318/318 [==============================] - 4s 14ms/step - loss: 0.5496 - accuracy: 0.7184 - val_loss: 0.5746 - val_accuracy: 0.7590\n",
            "Epoch 3/50\n",
            "318/318 [==============================] - 4s 14ms/step - loss: 0.4804 - accuracy: 0.7836 - val_loss: 0.4377 - val_accuracy: 0.8240\n",
            "Epoch 4/50\n",
            "318/318 [==============================] - 4s 14ms/step - loss: 0.4285 - accuracy: 0.8144 - val_loss: 0.3667 - val_accuracy: 0.8576\n",
            "Epoch 5/50\n",
            "318/318 [==============================] - 4s 14ms/step - loss: 0.3447 - accuracy: 0.8579 - val_loss: 0.3664 - val_accuracy: 0.8574\n",
            "Epoch 6/50\n",
            "318/318 [==============================] - 4s 14ms/step - loss: 0.3127 - accuracy: 0.8780 - val_loss: 0.2826 - val_accuracy: 0.8948\n",
            "Epoch 7/50\n",
            "318/318 [==============================] - 4s 14ms/step - loss: 0.2683 - accuracy: 0.8948 - val_loss: 0.2802 - val_accuracy: 0.8926\n",
            "Epoch 8/50\n",
            "318/318 [==============================] - 5s 16ms/step - loss: 0.2225 - accuracy: 0.9119 - val_loss: 0.2370 - val_accuracy: 0.9152\n",
            "Epoch 9/50\n",
            "318/318 [==============================] - 4s 14ms/step - loss: 0.2155 - accuracy: 0.9227 - val_loss: 0.2418 - val_accuracy: 0.9148\n",
            "Epoch 10/50\n",
            "318/318 [==============================] - 4s 14ms/step - loss: 0.1937 - accuracy: 0.9274 - val_loss: 0.2997 - val_accuracy: 0.8916\n",
            "Epoch 11/50\n",
            "318/318 [==============================] - 4s 14ms/step - loss: 0.2084 - accuracy: 0.9238 - val_loss: 0.2512 - val_accuracy: 0.9110\n",
            "Epoch 12/50\n",
            "318/318 [==============================] - 4s 14ms/step - loss: 0.1612 - accuracy: 0.9430 - val_loss: 0.2249 - val_accuracy: 0.9232\n",
            "Epoch 13/50\n",
            "318/318 [==============================] - 4s 14ms/step - loss: 0.1549 - accuracy: 0.9421 - val_loss: 0.2823 - val_accuracy: 0.9098\n",
            "Epoch 14/50\n",
            "318/318 [==============================] - 4s 14ms/step - loss: 0.1596 - accuracy: 0.9449 - val_loss: 0.2521 - val_accuracy: 0.9108\n",
            "Epoch 15/50\n",
            "318/318 [==============================] - 4s 14ms/step - loss: 0.1394 - accuracy: 0.9486 - val_loss: 0.2633 - val_accuracy: 0.9286\n",
            "Epoch 16/50\n",
            "318/318 [==============================] - 4s 14ms/step - loss: 0.1323 - accuracy: 0.9539 - val_loss: 0.2935 - val_accuracy: 0.9060\n",
            "Epoch 17/50\n",
            "318/318 [==============================] - 4s 14ms/step - loss: 0.1175 - accuracy: 0.9605 - val_loss: 0.2916 - val_accuracy: 0.9262\n",
            "Epoch 18/50\n",
            "318/318 [==============================] - 4s 14ms/step - loss: 0.0925 - accuracy: 0.9666 - val_loss: 0.3363 - val_accuracy: 0.9228\n",
            "Epoch 19/50\n",
            "318/318 [==============================] - 4s 14ms/step - loss: 0.1066 - accuracy: 0.9638 - val_loss: 0.2799 - val_accuracy: 0.9148\n",
            "Epoch 20/50\n",
            "318/318 [==============================] - 4s 14ms/step - loss: 0.0892 - accuracy: 0.9676 - val_loss: 0.5378 - val_accuracy: 0.9312\n",
            "Epoch 21/50\n",
            "318/318 [==============================] - 4s 14ms/step - loss: 0.0911 - accuracy: 0.9727 - val_loss: 0.3144 - val_accuracy: 0.9200\n",
            "Epoch 22/50\n",
            "318/318 [==============================] - 4s 14ms/step - loss: 0.0997 - accuracy: 0.9667 - val_loss: 0.2882 - val_accuracy: 0.9222\n",
            "Epoch 23/50\n",
            "318/318 [==============================] - 5s 14ms/step - loss: 0.0789 - accuracy: 0.9759 - val_loss: 0.3766 - val_accuracy: 0.9356\n",
            "Epoch 24/50\n",
            "318/318 [==============================] - 4s 14ms/step - loss: 0.0835 - accuracy: 0.9696 - val_loss: 0.3713 - val_accuracy: 0.8842\n",
            "Epoch 25/50\n",
            "318/318 [==============================] - 5s 14ms/step - loss: 0.0747 - accuracy: 0.9741 - val_loss: 0.4557 - val_accuracy: 0.9344\n",
            "Epoch 26/50\n",
            "318/318 [==============================] - 5s 14ms/step - loss: 0.0765 - accuracy: 0.9730 - val_loss: 0.3154 - val_accuracy: 0.9396\n",
            "Epoch 27/50\n",
            "318/318 [==============================] - 5s 14ms/step - loss: 0.0574 - accuracy: 0.9802 - val_loss: 0.4385 - val_accuracy: 0.9346\n",
            "Epoch 28/50\n",
            "318/318 [==============================] - 5s 14ms/step - loss: 0.0491 - accuracy: 0.9837 - val_loss: 0.6265 - val_accuracy: 0.9316\n",
            "Epoch 29/50\n",
            "318/318 [==============================] - 4s 14ms/step - loss: 0.0814 - accuracy: 0.9749 - val_loss: 0.3548 - val_accuracy: 0.9246\n",
            "Epoch 30/50\n",
            "318/318 [==============================] - 5s 14ms/step - loss: 0.0813 - accuracy: 0.9729 - val_loss: 0.5070 - val_accuracy: 0.9328\n",
            "Epoch 31/50\n",
            "318/318 [==============================] - 5s 14ms/step - loss: 0.0461 - accuracy: 0.9846 - val_loss: 0.6441 - val_accuracy: 0.9322\n",
            "Epoch 32/50\n",
            "318/318 [==============================] - 5s 14ms/step - loss: 0.1571 - accuracy: 0.9428 - val_loss: 0.4205 - val_accuracy: 0.9104\n",
            "Epoch 33/50\n",
            "318/318 [==============================] - 4s 14ms/step - loss: 0.0759 - accuracy: 0.9748 - val_loss: 0.5353 - val_accuracy: 0.9304\n",
            "Epoch 34/50\n",
            "318/318 [==============================] - 5s 14ms/step - loss: 0.0525 - accuracy: 0.9831 - val_loss: 0.5324 - val_accuracy: 0.9330\n",
            "Epoch 35/50\n",
            "318/318 [==============================] - 5s 14ms/step - loss: 0.0982 - accuracy: 0.9707 - val_loss: 0.4844 - val_accuracy: 0.8798\n",
            "Epoch 36/50\n",
            "318/318 [==============================] - 5s 14ms/step - loss: 0.1667 - accuracy: 0.9414 - val_loss: 0.3815 - val_accuracy: 0.9274\n",
            "Epoch 37/50\n",
            "318/318 [==============================] - 5s 14ms/step - loss: 0.1949 - accuracy: 0.9553 - val_loss: 0.4846 - val_accuracy: 0.8584\n",
            "Epoch 38/50\n",
            "318/318 [==============================] - 5s 14ms/step - loss: 0.2284 - accuracy: 0.9165 - val_loss: 0.3199 - val_accuracy: 0.9158\n",
            "Epoch 39/50\n",
            "318/318 [==============================] - 5s 14ms/step - loss: 0.0977 - accuracy: 0.9639 - val_loss: 0.4873 - val_accuracy: 0.9276\n",
            "Epoch 40/50\n",
            "318/318 [==============================] - 5s 14ms/step - loss: 0.0790 - accuracy: 0.9745 - val_loss: 0.3959 - val_accuracy: 0.9300\n",
            "Epoch 41/50\n",
            "318/318 [==============================] - 5s 14ms/step - loss: 0.0520 - accuracy: 0.9848 - val_loss: 0.5176 - val_accuracy: 0.9296\n",
            "Epoch 42/50\n",
            "318/318 [==============================] - 5s 14ms/step - loss: 0.0339 - accuracy: 0.9890 - val_loss: 0.7330 - val_accuracy: 0.9342\n",
            "Epoch 43/50\n",
            "318/318 [==============================] - 5s 15ms/step - loss: 0.0431 - accuracy: 0.9855 - val_loss: 0.8439 - val_accuracy: 0.9018\n",
            "Epoch 44/50\n",
            "318/318 [==============================] - 5s 14ms/step - loss: 0.0604 - accuracy: 0.9830 - val_loss: 0.3990 - val_accuracy: 0.9258\n",
            "Epoch 45/50\n",
            "318/318 [==============================] - 5s 14ms/step - loss: 0.0458 - accuracy: 0.9858 - val_loss: 0.8327 - val_accuracy: 0.9248\n",
            "Epoch 46/50\n",
            "318/318 [==============================] - 5s 14ms/step - loss: 0.0424 - accuracy: 0.9880 - val_loss: 0.5404 - val_accuracy: 0.9256\n",
            "Epoch 47/50\n",
            "318/318 [==============================] - 5s 16ms/step - loss: 0.0297 - accuracy: 0.9924 - val_loss: 0.7890 - val_accuracy: 0.9182\n",
            "Epoch 48/50\n",
            "318/318 [==============================] - 5s 14ms/step - loss: 0.0698 - accuracy: 0.9793 - val_loss: 0.5574 - val_accuracy: 0.9254\n",
            "Epoch 49/50\n",
            "318/318 [==============================] - 5s 14ms/step - loss: 0.0695 - accuracy: 0.9813 - val_loss: 0.3575 - val_accuracy: 0.9328\n",
            "Epoch 50/50\n",
            "318/318 [==============================] - 5s 14ms/step - loss: 0.0559 - accuracy: 0.9845 - val_loss: 0.6934 - val_accuracy: 0.9278\n"
          ]
        }
      ]
    },
    {
      "cell_type": "code",
      "metadata": {
        "id": "OYy-wezg4COO",
        "colab": {
          "base_uri": "https://localhost:8080/",
          "height": 435
        },
        "outputId": "52aaae33-ce9f-48e2-eda0-286f33290b95"
      },
      "source": [
        "acc = vgg_history.history['accuracy']\n",
        "val_acc = vgg_history.history['val_accuracy']\n",
        "loss = vgg_history.history['loss']\n",
        "val_loss = vgg_history.history['val_loss']\n",
        "\n",
        "epochs_range = range(50)\n",
        "\n",
        "plt.figure(figsize=(15, 15))\n",
        "plt.subplot(2, 2, 1)\n",
        "plt.plot(epochs_range, acc,'v', label='Training Accuracy')\n",
        "plt.plot(epochs_range, val_acc,'o', label='Validation Accuracy')\n",
        "plt.legend(loc='lower right')\n",
        "plt.title('Training accuracy (max = {0:.2f}%) and Validation Accuracy (max = {1:.2f}%)'.format(np.max(vgg_history.history['accuracy']),np.max(vgg_history.history['val_accuracy'])))\n",
        "\n",
        "plt.subplot(2, 2, 2)\n",
        "plt.plot(epochs_range, loss, label='Training Loss')\n",
        "plt.plot(epochs_range, val_loss, label='Validation Loss')\n",
        "plt.legend(loc='upper right')\n",
        "plt.title('Training and Validation Loss')\n",
        "plt.show()"
      ],
      "execution_count": 35,
      "outputs": [
        {
          "output_type": "display_data",
          "data": {
            "image/png": "[encoded data removed]",
            "text/plain": [
              "<Figure size 1080x1080 with 2 Axes>"
            ]
          },
          "metadata": {
            "needs_background": "light"
          }
        }
      ]
    },
    {
      "cell_type": "code",
      "metadata": {
        "id": "Q0BjNtAo4COO",
        "colab": {
          "base_uri": "https://localhost:8080/"
        },
        "outputId": "202481bd-5bf7-41c2-b6a7-09374d807218"
      },
      "source": [
        "vgg_pred = vgg.predict(x_test)\n",
        "vgg_pred"
      ],
      "execution_count": 36,
      "outputs": [
        {
          "output_type": "execute_result",
          "data": {
            "text/plain": [
              "array([[0.0000000e+00, 6.2210513e-21, 1.0000000e+00],\n",
              "       [6.1288837e-08, 9.9999988e-01, 1.8498618e-25],\n",
              "       [7.4987003e-09, 1.0000000e+00, 2.2413116e-28],\n",
              "       ...,\n",
              "       [1.0355770e-03, 9.9896443e-01, 4.5984061e-13],\n",
              "       [3.3746366e-26, 1.0000000e+00, 0.0000000e+00],\n",
              "       [1.0771106e-18, 1.0000000e+00, 0.0000000e+00]], dtype=float32)"
            ]
          },
          "metadata": {},
          "execution_count": 36
        }
      ]
    },
    {
      "cell_type": "code",
      "metadata": {
        "id": "oFaKy1dz4COO",
        "colab": {
          "base_uri": "https://localhost:8080/"
        },
        "outputId": "a722a217-1635-4890-bfff-a7dd860df57f"
      },
      "source": [
        "y_round=np.round(vgg_pred)\n",
        "check=[]\n",
        "for i in y_round:\n",
        "    check.append(np.argmax(i))\n",
        "check=np.array(check)\n",
        "check.shape"
      ],
      "execution_count": 37,
      "outputs": [
        {
          "output_type": "execute_result",
          "data": {
            "text/plain": [
              "(5001,)"
            ]
          },
          "metadata": {},
          "execution_count": 37
        }
      ]
    },
    {
      "cell_type": "code",
      "metadata": {
        "id": "O0KsxIKg4COO",
        "colab": {
          "base_uri": "https://localhost:8080/",
          "height": 467
        },
        "outputId": "1acea99c-66fa-449a-a775-09d2a3a2f350"
      },
      "source": [
        "cm3=confusion_matrix(a,results['RandomForest'])\n",
        "plot_confusion_matrix(cm3,target_names=['COVID','Normal','Pneumonia'],title='Random Forest Confusion Matrix', cmap='Dark2_r')"
      ],
      "execution_count": 149,
      "outputs": [
        {
          "output_type": "display_data",
          "data": {
            "image/png": "[encoded data removed]",
            "text/plain": [
              "<Figure size 576x432 with 2 Axes>"
            ]
          },
          "metadata": {
            "needs_background": "light"
          }
        }
      ]
    },
    {
      "cell_type": "code",
      "metadata": {
        "id": "WjgLKuh04COO",
        "colab": {
          "base_uri": "https://localhost:8080/"
        },
        "outputId": "ed18ab0c-26bc-40a8-ff39-5de2e0a18daa"
      },
      "source": [
        "from sklearn.metrics import confusion_matrix\n",
        "cm2=confusion_matrix(a,check)\n",
        "print(accuracy_score(a,check))"
      ],
      "execution_count": 54,
      "outputs": [
        {
          "output_type": "stream",
          "name": "stdout",
          "text": [
            "0.9276144771045791\n"
          ]
        }
      ]
    },
    {
      "cell_type": "code",
      "metadata": {
        "id": "94Y6yNLP4COO",
        "colab": {
          "base_uri": "https://localhost:8080/",
          "height": 467
        },
        "outputId": "f41b4f61-f992-4545-c0d9-75193a955c28"
      },
      "source": [
        "plot_confusion_matrix(cm2,target_names=['COVID','Normal','Pneumonia'],title='VGG Confusion Matrix', cmap='Dark2_r')"
      ],
      "execution_count": 40,
      "outputs": [
        {
          "output_type": "display_data",
          "data": {
            "image/png": "[encoded data removed]",
            "text/plain": [
              "<Figure size 576x432 with 2 Axes>"
            ]
          },
          "metadata": {
            "needs_background": "light"
          }
        }
      ]
    },
    {
      "cell_type": "code",
      "metadata": {
        "id": "cVluJft_4COP"
      },
      "source": [
        "results['VGG']=check"
      ],
      "execution_count": 48,
      "outputs": []
    },
    {
      "cell_type": "code",
      "metadata": {
        "id": "VekADdE94COP"
      },
      "source": [
        "from sklearn.metrics import f1_score, accuracy_score,plot_confusion_matrix,recall_score,precision_score,confusion_matrix,roc_auc_score\n",
        "def get_metrics(x,y):\n",
        "  acc = accuracy_score(x,y)\n",
        "  pre = precision_score(x,y,average='macro')\n",
        "  f1 = f1_score(x,y,average='macro')\n",
        "  recall = recall_score(x,y,average='macro')\n",
        "  cnf_matrix = confusion_matrix(x, y)\n",
        "  print(cnf_matrix)\n",
        "\n",
        "  FP = cnf_matrix.sum(axis=0) - np.diag(cnf_matrix)  \n",
        "  FN = cnf_matrix.sum(axis=1) - np.diag(cnf_matrix)\n",
        "  TP = np.diag(cnf_matrix)\n",
        "  TN = cnf_matrix.sum() - (FP + FN + TP)\n",
        "\n",
        "  FP = FP.astype(float)\n",
        "  FN = FN.astype(float)\n",
        "  TP = TP.astype(float)\n",
        "  TN = TN.astype(float)\n",
        "\n",
        "  # Sensitivity, hit rate, recall, or true positive rate\n",
        "  TPR = TP/(TP+FN)\n",
        "  # Specificity or true negative rate\n",
        "  TNR = TN/(TN+FP) \n",
        "  # Precision or positive predictive value\n",
        "  PPV = TP/(TP+FP)\n",
        "  # Negative predictive value\n",
        "  NPV = TN/(TN+FN)\n",
        "  # Fall out or false positive rate\n",
        "  FPR = FP/(FP+TN)\n",
        "  # False negative rate\n",
        "  FNR = FN/(TP+FN)\n",
        "  # False discovery rate\n",
        "  FDR = FP/(TP+FP)\n",
        "  # Overall accuracy\n",
        "  ACC = (TP+TN)/(TP+FP+FN+TN)\n",
        "  class_error = (FNR+FPR)/(TNR+FPR+FNR+TPR)\n",
        "  return [acc,pre,f1,recall,class_error[0]]\n",
        "results['true']=results['true'].astype('int')"
      ],
      "execution_count": 102,
      "outputs": []
    },
    {
      "cell_type": "code",
      "metadata": {
        "colab": {
          "base_uri": "https://localhost:8080/"
        },
        "id": "NXJdWqgpPJQQ",
        "outputId": "ef529924-80da-4d2f-ff65-e1f77e70044c"
      },
      "source": [
        "cn = get_metrics(results['true'],results['CNN'])\n",
        "cn"
      ],
      "execution_count": 103,
      "outputs": [
        {
          "output_type": "stream",
          "name": "stdout",
          "text": [
            "[[ 934  192    1]\n",
            " [ 249 3162   28]\n",
            " [  45   88  302]]\n"
          ]
        },
        {
          "output_type": "execute_result",
          "data": {
            "text/plain": [
              "[0.8794241151769646,\n",
              " 0.8638749909031964,\n",
              " 0.8335900524834373,\n",
              " 0.8141516979600493,\n",
              " 0.1235708307699637]"
            ]
          },
          "metadata": {},
          "execution_count": 103
        }
      ]
    },
    {
      "cell_type": "code",
      "metadata": {
        "id": "mGdJJS9Z4COP",
        "colab": {
          "base_uri": "https://localhost:8080/"
        },
        "outputId": "723dec0b-9467-44bc-d0f0-5a87b5db1dc9"
      },
      "source": [
        "cn = get_metrics(results['true'],results['CNN'])\n",
        "sv = get_metrics(results['true'],results['SVM'])\n",
        "raf = get_metrics(results['true'],results['RandomForest'])\n",
        "vg = get_metrics(results['true'],results['VGG'])\n",
        "visual = pd.DataFrame([cn,sv,raf,vg],columns=['accuracy','precision','f1','recall','classif_error'],index=['CNN','SVM','RF','VGG'])"
      ],
      "execution_count": 104,
      "outputs": [
        {
          "output_type": "stream",
          "name": "stdout",
          "text": [
            "[[ 934  192    1]\n",
            " [ 249 3162   28]\n",
            " [  45   88  302]]\n",
            "[[ 610  509    8]\n",
            " [ 171 3228   40]\n",
            " [  18   66  351]]\n",
            "[[ 917  201    9]\n",
            " [ 158 3229   52]\n",
            " [  18   77  340]]\n",
            "[[1002  104   21]\n",
            " [ 153 3230   56]\n",
            " [  13   15  407]]\n"
          ]
        }
      ]
    },
    {
      "cell_type": "code",
      "metadata": {
        "id": "Tt7JkdeS4COP",
        "colab": {
          "base_uri": "https://localhost:8080/",
          "height": 419
        },
        "outputId": "aeda2fda-71f9-46a1-94bd-961a91be880f"
      },
      "source": [
        "results"
      ],
      "execution_count": 127,
      "outputs": [
        {
          "output_type": "execute_result",
          "data": {
            "text/html": [
              "<div>\n",
              "<style scoped>\n",
              "    .dataframe tbody tr th:only-of-type {\n",
              "        vertical-align: middle;\n",
              "    }\n",
              "\n",
              "    .dataframe tbody tr th {\n",
              "        vertical-align: top;\n",
              "    }\n",
              "\n",
              "    .dataframe thead th {\n",
              "        text-align: right;\n",
              "    }\n",
              "</style>\n",
              "<table border=\"1\" class=\"dataframe\">\n",
              "  <thead>\n",
              "    <tr style=\"text-align: right;\">\n",
              "      <th></th>\n",
              "      <th>true</th>\n",
              "      <th>CNN</th>\n",
              "      <th>SVM</th>\n",
              "      <th>RandomForest</th>\n",
              "      <th>VGG</th>\n",
              "    </tr>\n",
              "  </thead>\n",
              "  <tbody>\n",
              "    <tr>\n",
              "      <th>0</th>\n",
              "      <td>2</td>\n",
              "      <td>2</td>\n",
              "      <td>2</td>\n",
              "      <td>2</td>\n",
              "      <td>2</td>\n",
              "    </tr>\n",
              "    <tr>\n",
              "      <th>1</th>\n",
              "      <td>1</td>\n",
              "      <td>1</td>\n",
              "      <td>1</td>\n",
              "      <td>1</td>\n",
              "      <td>1</td>\n",
              "    </tr>\n",
              "    <tr>\n",
              "      <th>2</th>\n",
              "      <td>1</td>\n",
              "      <td>1</td>\n",
              "      <td>1</td>\n",
              "      <td>1</td>\n",
              "      <td>1</td>\n",
              "    </tr>\n",
              "    <tr>\n",
              "      <th>3</th>\n",
              "      <td>1</td>\n",
              "      <td>1</td>\n",
              "      <td>1</td>\n",
              "      <td>1</td>\n",
              "      <td>1</td>\n",
              "    </tr>\n",
              "    <tr>\n",
              "      <th>4</th>\n",
              "      <td>1</td>\n",
              "      <td>1</td>\n",
              "      <td>1</td>\n",
              "      <td>1</td>\n",
              "      <td>1</td>\n",
              "    </tr>\n",
              "    <tr>\n",
              "      <th>...</th>\n",
              "      <td>...</td>\n",
              "      <td>...</td>\n",
              "      <td>...</td>\n",
              "      <td>...</td>\n",
              "      <td>...</td>\n",
              "    </tr>\n",
              "    <tr>\n",
              "      <th>4996</th>\n",
              "      <td>0</td>\n",
              "      <td>0</td>\n",
              "      <td>0</td>\n",
              "      <td>0</td>\n",
              "      <td>0</td>\n",
              "    </tr>\n",
              "    <tr>\n",
              "      <th>4997</th>\n",
              "      <td>1</td>\n",
              "      <td>1</td>\n",
              "      <td>1</td>\n",
              "      <td>1</td>\n",
              "      <td>1</td>\n",
              "    </tr>\n",
              "    <tr>\n",
              "      <th>4998</th>\n",
              "      <td>0</td>\n",
              "      <td>0</td>\n",
              "      <td>0</td>\n",
              "      <td>1</td>\n",
              "      <td>1</td>\n",
              "    </tr>\n",
              "    <tr>\n",
              "      <th>4999</th>\n",
              "      <td>1</td>\n",
              "      <td>1</td>\n",
              "      <td>1</td>\n",
              "      <td>1</td>\n",
              "      <td>1</td>\n",
              "    </tr>\n",
              "    <tr>\n",
              "      <th>5000</th>\n",
              "      <td>1</td>\n",
              "      <td>1</td>\n",
              "      <td>1</td>\n",
              "      <td>1</td>\n",
              "      <td>1</td>\n",
              "    </tr>\n",
              "  </tbody>\n",
              "</table>\n",
              "<p>5001 rows × 5 columns</p>\n",
              "</div>"
            ],
            "text/plain": [
              "      true  CNN  SVM  RandomForest  VGG\n",
              "0        2    2    2             2    2\n",
              "1        1    1    1             1    1\n",
              "2        1    1    1             1    1\n",
              "3        1    1    1             1    1\n",
              "4        1    1    1             1    1\n",
              "...    ...  ...  ...           ...  ...\n",
              "4996     0    0    0             0    0\n",
              "4997     1    1    1             1    1\n",
              "4998     0    0    0             1    1\n",
              "4999     1    1    1             1    1\n",
              "5000     1    1    1             1    1\n",
              "\n",
              "[5001 rows x 5 columns]"
            ]
          },
          "metadata": {},
          "execution_count": 127
        }
      ]
    },
    {
      "cell_type": "markdown",
      "metadata": {
        "id": "HXsJLWEjK1IP"
      },
      "source": [
        "# Visualiztion"
      ]
    },
    {
      "cell_type": "code",
      "metadata": {
        "id": "6N7CYZOM4COP",
        "colab": {
          "base_uri": "https://localhost:8080/",
          "height": 312
        },
        "outputId": "70df5ca4-a195-4d4b-ffc1-c82bd1aa97b7"
      },
      "source": [
        "from sklearn.metrics import roc_curve, roc_auc_score,auc\n",
        "from sklearn.preprocessing import label_binarize\n",
        "n_classes = 3\n",
        "\n",
        "y_true = label_binarize(results['true'], classes=[0,1,2])\n",
        "y_score_cnn = label_binarize(results['CNN'], classes=[0,1,2])\n",
        "y_score_svm = label_binarize(results['SVM'], classes=[0,1,2])\n",
        "y_score_rf = label_binarize(results['RandomForest'], classes=[0,1,2])\n",
        "y_score_vgg = label_binarize(results['VGG'], classes=[0,1,2])\n",
        "\n",
        "# Compute ROC curve and ROC area for each class\n",
        "fpr = dict()\n",
        "tpr = dict()\n",
        "roc_auc = dict()\n",
        "\n",
        "plt.title(\"ROC CURVE FOR COVID IMAGES PREDICTION AMONG 4 TOOLS\")\n",
        "\n",
        "# Plot of a ROC curve for a specific class\n",
        "fpr, tpr, thresh = roc_curve(y_true[:,0], y_score_cnn[:,0])\n",
        "auc = roc_auc_score(y_true[:,0], y_score_cnn[:,0])\n",
        "plt.plot(fpr,tpr,label=\"CNN, auc={0:.2f}\".format((auc)))\n",
        "\n",
        "\n",
        "fpr, tpr, thresh = roc_curve(y_true[:,0],y_score_svm[:,0])\n",
        "auc = roc_auc_score(y_true[:,0],y_score_svm[:,0])\n",
        "plt.plot(fpr,tpr,label=\"SVM, auc={0:.2f}\".format((auc)))\n",
        "\n",
        "fpr, tpr, thresh = roc_curve(y_true[:,0], y_score_rf[:,0])\n",
        "auc = roc_auc_score(y_true[:,0], y_score_rf[:,0])\n",
        "plt.plot(fpr,tpr,label=\"RF, auc={0:.2f}\".format((auc)))\n",
        "\n",
        "fpr, tpr, thresh = roc_curve(y_true[:,0], y_score_vgg[:,0])\n",
        "auc = roc_auc_score(y_true[:,0], y_score_vgg[:,0])\n",
        "plt.plot(fpr,tpr,label=\"VGG, auc={0:.2f}\".format((auc)))\n",
        "plt.plot([0.0, 1.0], [0.0, 1.0], ls='--', c='purple')\n",
        "plt.grid(1)\n",
        "plt.xlabel('False Positive Rate')\n",
        "plt.ylabel('True Positive Rate')\n",
        "plt.legend(loc=0)"
      ],
      "execution_count": 143,
      "outputs": [
        {
          "output_type": "execute_result",
          "data": {
            "text/plain": [
              "<matplotlib.legend.Legend at 0x7ff061681a10>"
            ]
          },
          "metadata": {},
          "execution_count": 143
        },
        {
          "output_type": "display_data",
          "data": {
            "image/png": "[encoded data removed]",
            "text/plain": [
              "<Figure size 432x288 with 1 Axes>"
            ]
          },
          "metadata": {
            "needs_background": "light"
          }
        }
      ]
    },
    {
      "cell_type": "code",
      "metadata": {
        "id": "xoEpYMQf4COP",
        "colab": {
          "base_uri": "https://localhost:8080/",
          "height": 163
        },
        "outputId": "20a6ced2-9d71-4329-e019-f461c7aa57b3"
      },
      "source": [
        "y_score[:,0]"
      ],
      "execution_count": 121,
      "outputs": [
        {
          "output_type": "error",
          "ename": "IndexError",
          "evalue": "ignored",
          "traceback": [
            "\u001b[0;31m---------------------------------------------------------------------------\u001b[0m",
            "\u001b[0;31mIndexError\u001b[0m                                Traceback (most recent call last)",
            "\u001b[0;32m<ipython-input-121-2623c2349e55>\u001b[0m in \u001b[0;36m<module>\u001b[0;34m()\u001b[0m\n\u001b[0;32m----> 1\u001b[0;31m \u001b[0my_score\u001b[0m\u001b[0;34m[\u001b[0m\u001b[0;34m:\u001b[0m\u001b[0;34m,\u001b[0m\u001b[0;36m0\u001b[0m\u001b[0;34m]\u001b[0m\u001b[0;34m\u001b[0m\u001b[0;34m\u001b[0m\u001b[0m\n\u001b[0m",
            "\u001b[0;31mIndexError\u001b[0m: too many indices for array: array is 1-dimensional, but 2 were indexed"
          ]
        }
      ]
    },
    {
      "cell_type": "code",
      "metadata": {
        "id": "DQOak1ue4COQ",
        "colab": {
          "base_uri": "https://localhost:8080/",
          "height": 542
        },
        "outputId": "24484cd7-52ad-43a1-e3c0-831414fc4403"
      },
      "source": [
        "import plotly.express as px\n",
        "import plotly.graph_objects as go\n",
        "  \n",
        "# read dataset from csv and perform preprocessing\n",
        "data = visual.reset_index()\n",
        "data.head()\n",
        "  \n",
        "# # remove goalkeepers data for performing fair comparison\n",
        "# goalkeeper_index = data[data['Position'] == 'GK' ].index\n",
        "# data.drop(index_names,inplace=True)\n",
        "  \n",
        "# remove columns which are not required for this visualisation purpose\n",
        "plt_vars =['accuracy','precision','f1','recall','classif_error']\n",
        "# data.drop(data_cols, axis =1, inplace=True)\n",
        "\n",
        "# plot unfilled scatter plot\n",
        "# plot star plot for comparison\n",
        "fig = go.Figure()\n",
        "  \n",
        "fig.add_trace(go.Scatterpolar(\n",
        "      r=pd.Series(data.loc[0].values),\n",
        "      theta=plt_vars,\n",
        "        marker=dict(\n",
        "            color='LightSkyBlue',\n",
        "            size=5,\n",
        "            line=dict(\n",
        "                color='LightSkyBlue',\n",
        "                width=2\n",
        "            )\n",
        "        ),\n",
        "      name=data.loc[0, 'index']\n",
        "))\n",
        "fig.add_trace(go.Scatterpolar(\n",
        "      r=pd.Series(data.loc[1,plt_vars].values),\n",
        "      theta=plt_vars,\n",
        "        marker=dict(\n",
        "            color='Orange',\n",
        "            size=5,\n",
        "            line=dict(\n",
        "                color='Orange',\n",
        "                width=2\n",
        "            )\n",
        "        ),\n",
        "      name=data.loc[1, 'index']\n",
        "))\n",
        "fig.add_trace(go.Scatterpolar(\n",
        "      r=pd.Series(data.loc[2,plt_vars].values),\n",
        "      theta=plt_vars,\n",
        "        marker=dict(\n",
        "            color='Green',\n",
        "            size=5,\n",
        "            line=dict(\n",
        "                color='Green',\n",
        "                width=2\n",
        "            )\n",
        "        ),\n",
        "      name=data.loc[2, 'index']\n",
        "))\n",
        "fig.add_trace(go.Scatterpolar(\n",
        "      r=pd.Series(data.loc[3,plt_vars].values),\n",
        "      theta=plt_vars,\n",
        "        marker=dict(\n",
        "            color='Red',\n",
        "            size=5,\n",
        "            line=dict(\n",
        "                color='Red',\n",
        "                width=2\n",
        "            )\n",
        "        ),\n",
        "      name=data.loc[3, 'index']\n",
        "))\n",
        "\n",
        "  \n",
        "fig.update_layout(\n",
        "  polar=dict(\n",
        "    radialaxis=dict(\n",
        "      visible=True\n",
        "          )),\n",
        "\n",
        "\n",
        "  showlegend=False\n",
        ")\n",
        "\n",
        "fig.show()"
      ],
      "execution_count": 169,
      "outputs": [
        {
          "output_type": "display_data",
          "data": {
            "text/html": [
              "<html>\n",
              "<head><meta charset=\"utf-8\" /></head>\n",
              "<body>\n",
              "    <div>\n",
              "            <script src=\"https://cdnjs.cloudflare.com/ajax/libs/mathjax/2.7.5/MathJax.js?config=TeX-AMS-MML_SVG\"></script><script type=\"text/javascript\">if (window.MathJax) {MathJax.Hub.Config({SVG: {font: \"STIX-Web\"}});}</script>\n",
              "                <script type=\"text/javascript\">window.PlotlyConfig = {MathJaxConfig: 'local'};</script>\n",
              "        <script src=\"https://cdn.plot.ly/plotly-latest.min.js\"></script>    \n",
              "            <div id=\"7a8b9bd5-e6a7-4d11-8859-9ff4eed4734d\" class=\"plotly-graph-div\" style=\"height:525px; width:100%;\"></div>\n",
              "            <script type=\"text/javascript\">\n",
              "                \n",
              "                    window.PLOTLYENV=window.PLOTLYENV || {};\n",
              "                    \n",
              "                if (document.getElementById(\"7a8b9bd5-e6a7-4d11-8859-9ff4eed4734d\")) {\n",
              "                    Plotly.newPlot(\n",
              "                        '7a8b9bd5-e6a7-4d11-8859-9ff4eed4734d',\n",
              "                        [{\"marker\": {\"color\": \"LightSkyBlue\", \"line\": {\"color\": \"LightSkyBlue\", \"width\": 2}, \"size\": 5}, \"name\": \"CNN\", \"r\": [\"CNN\", 0.8794241151769646, 0.8638749909031964, 0.8335900524834373, 0.8141516979600493, 0.1235708307699637], \"theta\": [\"accuracy\", \"precision\", \"f1\", \"recall\", \"classif_error\"], \"type\": \"scatterpolar\"}, {\"marker\": {\"color\": \"Orange\", \"line\": {\"color\": \"Orange\", \"width\": 2}, \"size\": 5}, \"name\": \"SVM\", \"r\": [0.8376324735052989, 0.8306523807139282, 0.7888767466438363, 0.7622671629688891, 0.2537634007161707], \"theta\": [\"accuracy\", \"precision\", \"f1\", \"recall\", \"classif_error\"], \"type\": \"scatterpolar\"}, {\"marker\": {\"color\": \"Green\", \"line\": {\"color\": \"Green\", \"width\": 2}, \"size\": 5}, \"name\": \"RF\", \"r\": [0.8970205958808238, 0.8691951884109276, 0.8564223309051836, 0.844736509602826, 0.11588324135741701], \"theta\": [\"accuracy\", \"precision\", \"f1\", \"recall\", \"classif_error\"], \"type\": \"scatterpolar\"}, {\"marker\": {\"color\": \"Red\", \"line\": {\"color\": \"Red\", \"width\": 2}, \"size\": 5}, \"name\": \"VGG\", \"r\": [0.9276144771045791, 0.8877509361046667, 0.9035424746943178, 0.9213149241517851, 0.07688184923584482], \"theta\": [\"accuracy\", \"precision\", \"f1\", \"recall\", \"classif_error\"], \"type\": \"scatterpolar\"}],\n",
              "                        {\"polar\": {\"radialaxis\": {\"visible\": true}}, \"showlegend\": false, \"template\": {\"data\": {\"bar\": [{\"error_x\": {\"color\": \"#2a3f5f\"}, \"error_y\": {\"color\": \"#2a3f5f\"}, \"marker\": {\"line\": {\"color\": \"#E5ECF6\", \"width\": 0.5}}, \"type\": \"bar\"}], \"barpolar\": [{\"marker\": {\"line\": {\"color\": \"#E5ECF6\", \"width\": 0.5}}, \"type\": \"barpolar\"}], \"carpet\": [{\"aaxis\": {\"endlinecolor\": \"#2a3f5f\", \"gridcolor\": \"white\", \"linecolor\": \"white\", \"minorgridcolor\": \"white\", \"startlinecolor\": \"#2a3f5f\"}, \"baxis\": {\"endlinecolor\": \"#2a3f5f\", \"gridcolor\": \"white\", \"linecolor\": \"white\", \"minorgridcolor\": \"white\", \"startlinecolor\": \"#2a3f5f\"}, \"type\": \"carpet\"}], \"choropleth\": [{\"colorbar\": {\"outlinewidth\": 0, \"ticks\": \"\"}, \"type\": \"choropleth\"}], \"contour\": [{\"colorbar\": {\"outlinewidth\": 0, \"ticks\": \"\"}, \"colorscale\": [[0.0, \"#0d0887\"], [0.1111111111111111, \"#46039f\"], [0.2222222222222222, \"#7201a8\"], [0.3333333333333333, \"#9c179e\"], [0.4444444444444444, \"#bd3786\"], [0.5555555555555556, \"#d8576b\"], [0.6666666666666666, \"#ed7953\"], [0.7777777777777778, \"#fb9f3a\"], [0.8888888888888888, \"#fdca26\"], [1.0, \"#f0f921\"]], \"type\": \"contour\"}], \"contourcarpet\": [{\"colorbar\": {\"outlinewidth\": 0, \"ticks\": \"\"}, \"type\": \"contourcarpet\"}], \"heatmap\": [{\"colorbar\": {\"outlinewidth\": 0, \"ticks\": \"\"}, \"colorscale\": [[0.0, \"#0d0887\"], [0.1111111111111111, \"#46039f\"], [0.2222222222222222, \"#7201a8\"], [0.3333333333333333, \"#9c179e\"], [0.4444444444444444, \"#bd3786\"], [0.5555555555555556, \"#d8576b\"], [0.6666666666666666, \"#ed7953\"], [0.7777777777777778, \"#fb9f3a\"], [0.8888888888888888, \"#fdca26\"], [1.0, \"#f0f921\"]], \"type\": \"heatmap\"}], \"heatmapgl\": [{\"colorbar\": {\"outlinewidth\": 0, \"ticks\": \"\"}, \"colorscale\": [[0.0, \"#0d0887\"], [0.1111111111111111, \"#46039f\"], [0.2222222222222222, \"#7201a8\"], [0.3333333333333333, \"#9c179e\"], [0.4444444444444444, \"#bd3786\"], [0.5555555555555556, \"#d8576b\"], [0.6666666666666666, \"#ed7953\"], [0.7777777777777778, \"#fb9f3a\"], [0.8888888888888888, \"#fdca26\"], [1.0, \"#f0f921\"]], \"type\": \"heatmapgl\"}], \"histogram\": [{\"marker\": {\"colorbar\": {\"outlinewidth\": 0, \"ticks\": \"\"}}, \"type\": \"histogram\"}], \"histogram2d\": [{\"colorbar\": {\"outlinewidth\": 0, \"ticks\": \"\"}, \"colorscale\": [[0.0, \"#0d0887\"], [0.1111111111111111, \"#46039f\"], [0.2222222222222222, \"#7201a8\"], [0.3333333333333333, \"#9c179e\"], [0.4444444444444444, \"#bd3786\"], [0.5555555555555556, \"#d8576b\"], [0.6666666666666666, \"#ed7953\"], [0.7777777777777778, \"#fb9f3a\"], [0.8888888888888888, \"#fdca26\"], [1.0, \"#f0f921\"]], \"type\": \"histogram2d\"}], \"histogram2dcontour\": [{\"colorbar\": {\"outlinewidth\": 0, \"ticks\": \"\"}, \"colorscale\": [[0.0, \"#0d0887\"], [0.1111111111111111, \"#46039f\"], [0.2222222222222222, \"#7201a8\"], [0.3333333333333333, \"#9c179e\"], [0.4444444444444444, \"#bd3786\"], [0.5555555555555556, \"#d8576b\"], [0.6666666666666666, \"#ed7953\"], [0.7777777777777778, \"#fb9f3a\"], [0.8888888888888888, \"#fdca26\"], [1.0, \"#f0f921\"]], \"type\": \"histogram2dcontour\"}], \"mesh3d\": [{\"colorbar\": {\"outlinewidth\": 0, \"ticks\": \"\"}, \"type\": \"mesh3d\"}], \"parcoords\": [{\"line\": {\"colorbar\": {\"outlinewidth\": 0, \"ticks\": \"\"}}, \"type\": \"parcoords\"}], \"pie\": [{\"automargin\": true, \"type\": \"pie\"}], \"scatter\": [{\"marker\": {\"colorbar\": {\"outlinewidth\": 0, \"ticks\": \"\"}}, \"type\": \"scatter\"}], \"scatter3d\": [{\"line\": {\"colorbar\": {\"outlinewidth\": 0, \"ticks\": \"\"}}, \"marker\": {\"colorbar\": {\"outlinewidth\": 0, \"ticks\": \"\"}}, \"type\": \"scatter3d\"}], \"scattercarpet\": [{\"marker\": {\"colorbar\": {\"outlinewidth\": 0, \"ticks\": \"\"}}, \"type\": \"scattercarpet\"}], \"scattergeo\": [{\"marker\": {\"colorbar\": {\"outlinewidth\": 0, \"ticks\": \"\"}}, \"type\": \"scattergeo\"}], \"scattergl\": [{\"marker\": {\"colorbar\": {\"outlinewidth\": 0, \"ticks\": \"\"}}, \"type\": \"scattergl\"}], \"scattermapbox\": [{\"marker\": {\"colorbar\": {\"outlinewidth\": 0, \"ticks\": \"\"}}, \"type\": \"scattermapbox\"}], \"scatterpolar\": [{\"marker\": {\"colorbar\": {\"outlinewidth\": 0, \"ticks\": \"\"}}, \"type\": \"scatterpolar\"}], \"scatterpolargl\": [{\"marker\": {\"colorbar\": {\"outlinewidth\": 0, \"ticks\": \"\"}}, \"type\": \"scatterpolargl\"}], \"scatterternary\": [{\"marker\": {\"colorbar\": {\"outlinewidth\": 0, \"ticks\": \"\"}}, \"type\": \"scatterternary\"}], \"surface\": [{\"colorbar\": {\"outlinewidth\": 0, \"ticks\": \"\"}, \"colorscale\": [[0.0, \"#0d0887\"], [0.1111111111111111, \"#46039f\"], [0.2222222222222222, \"#7201a8\"], [0.3333333333333333, \"#9c179e\"], [0.4444444444444444, \"#bd3786\"], [0.5555555555555556, \"#d8576b\"], [0.6666666666666666, \"#ed7953\"], [0.7777777777777778, \"#fb9f3a\"], [0.8888888888888888, \"#fdca26\"], [1.0, \"#f0f921\"]], \"type\": \"surface\"}], \"table\": [{\"cells\": {\"fill\": {\"color\": \"#EBF0F8\"}, \"line\": {\"color\": \"white\"}}, \"header\": {\"fill\": {\"color\": \"#C8D4E3\"}, \"line\": {\"color\": \"white\"}}, \"type\": \"table\"}]}, \"layout\": {\"annotationdefaults\": {\"arrowcolor\": \"#2a3f5f\", \"arrowhead\": 0, \"arrowwidth\": 1}, \"coloraxis\": {\"colorbar\": {\"outlinewidth\": 0, \"ticks\": \"\"}}, \"colorscale\": {\"diverging\": [[0, \"#8e0152\"], [0.1, \"#c51b7d\"], [0.2, \"#de77ae\"], [0.3, \"#f1b6da\"], [0.4, \"#fde0ef\"], [0.5, \"#f7f7f7\"], [0.6, \"#e6f5d0\"], [0.7, \"#b8e186\"], [0.8, \"#7fbc41\"], [0.9, \"#4d9221\"], [1, \"#276419\"]], \"sequential\": [[0.0, \"#0d0887\"], [0.1111111111111111, \"#46039f\"], [0.2222222222222222, \"#7201a8\"], [0.3333333333333333, \"#9c179e\"], [0.4444444444444444, \"#bd3786\"], [0.5555555555555556, \"#d8576b\"], [0.6666666666666666, \"#ed7953\"], [0.7777777777777778, \"#fb9f3a\"], [0.8888888888888888, \"#fdca26\"], [1.0, \"#f0f921\"]], \"sequentialminus\": [[0.0, \"#0d0887\"], [0.1111111111111111, \"#46039f\"], [0.2222222222222222, \"#7201a8\"], [0.3333333333333333, \"#9c179e\"], [0.4444444444444444, \"#bd3786\"], [0.5555555555555556, \"#d8576b\"], [0.6666666666666666, \"#ed7953\"], [0.7777777777777778, \"#fb9f3a\"], [0.8888888888888888, \"#fdca26\"], [1.0, \"#f0f921\"]]}, \"colorway\": [\"#636efa\", \"#EF553B\", \"#00cc96\", \"#ab63fa\", \"#FFA15A\", \"#19d3f3\", \"#FF6692\", \"#B6E880\", \"#FF97FF\", \"#FECB52\"], \"font\": {\"color\": \"#2a3f5f\"}, \"geo\": {\"bgcolor\": \"white\", \"lakecolor\": \"white\", \"landcolor\": \"#E5ECF6\", \"showlakes\": true, \"showland\": true, \"subunitcolor\": \"white\"}, \"hoverlabel\": {\"align\": \"left\"}, \"hovermode\": \"closest\", \"mapbox\": {\"style\": \"light\"}, \"paper_bgcolor\": \"white\", \"plot_bgcolor\": \"#E5ECF6\", \"polar\": {\"angularaxis\": {\"gridcolor\": \"white\", \"linecolor\": \"white\", \"ticks\": \"\"}, \"bgcolor\": \"#E5ECF6\", \"radialaxis\": {\"gridcolor\": \"white\", \"linecolor\": \"white\", \"ticks\": \"\"}}, \"scene\": {\"xaxis\": {\"backgroundcolor\": \"#E5ECF6\", \"gridcolor\": \"white\", \"gridwidth\": 2, \"linecolor\": \"white\", \"showbackground\": true, \"ticks\": \"\", \"zerolinecolor\": \"white\"}, \"yaxis\": {\"backgroundcolor\": \"#E5ECF6\", \"gridcolor\": \"white\", \"gridwidth\": 2, \"linecolor\": \"white\", \"showbackground\": true, \"ticks\": \"\", \"zerolinecolor\": \"white\"}, \"zaxis\": {\"backgroundcolor\": \"#E5ECF6\", \"gridcolor\": \"white\", \"gridwidth\": 2, \"linecolor\": \"white\", \"showbackground\": true, \"ticks\": \"\", \"zerolinecolor\": \"white\"}}, \"shapedefaults\": {\"line\": {\"color\": \"#2a3f5f\"}}, \"ternary\": {\"aaxis\": {\"gridcolor\": \"white\", \"linecolor\": \"white\", \"ticks\": \"\"}, \"baxis\": {\"gridcolor\": \"white\", \"linecolor\": \"white\", \"ticks\": \"\"}, \"bgcolor\": \"#E5ECF6\", \"caxis\": {\"gridcolor\": \"white\", \"linecolor\": \"white\", \"ticks\": \"\"}}, \"title\": {\"x\": 0.05}, \"xaxis\": {\"automargin\": true, \"gridcolor\": \"white\", \"linecolor\": \"white\", \"ticks\": \"\", \"title\": {\"standoff\": 15}, \"zerolinecolor\": \"white\", \"zerolinewidth\": 2}, \"yaxis\": {\"automargin\": true, \"gridcolor\": \"white\", \"linecolor\": \"white\", \"ticks\": \"\", \"title\": {\"standoff\": 15}, \"zerolinecolor\": \"white\", \"zerolinewidth\": 2}}}},\n",
              "                        {\"responsive\": true}\n",
              "                    ).then(function(){\n",
              "                            \n",
              "var gd = document.getElementById('7a8b9bd5-e6a7-4d11-8859-9ff4eed4734d');\n",
              "var x = new MutationObserver(function (mutations, observer) {{\n",
              "        var display = window.getComputedStyle(gd).display;\n",
              "        if (!display || display === 'none') {{\n",
              "            console.log([gd, 'removed!']);\n",
              "            Plotly.purge(gd);\n",
              "            observer.disconnect();\n",
              "        }}\n",
              "}});\n",
              "\n",
              "// Listen for the removal of the full notebook cells\n",
              "var notebookContainer = gd.closest('#notebook-container');\n",
              "if (notebookContainer) {{\n",
              "    x.observe(notebookContainer, {childList: true});\n",
              "}}\n",
              "\n",
              "// Listen for the clearing of the current output cell\n",
              "var outputEl = gd.closest('.output');\n",
              "if (outputEl) {{\n",
              "    x.observe(outputEl, {childList: true});\n",
              "}}\n",
              "\n",
              "                        })\n",
              "                };\n",
              "                \n",
              "            </script>\n",
              "        </div>\n",
              "</body>\n",
              "</html>"
            ]
          },
          "metadata": {}
        }
      ]
    },
    {
      "cell_type": "code",
      "metadata": {
        "id": "0hoyD9e0RhOJ"
      },
      "source": [
        "pd.Series(data.loc[0].values)"
      ],
      "execution_count": null,
      "outputs": []
    },
    {
      "cell_type": "code",
      "metadata": {
        "id": "SvO0-MFnRpk9"
      },
      "source": [
        ""
      ],
      "execution_count": 151,
      "outputs": []
    },
    {
      "cell_type": "code",
      "metadata": {
        "colab": {
          "base_uri": "https://localhost:8080/",
          "height": 400
        },
        "id": "AlDde_lqRruX",
        "outputId": "44bb5187-60b6-46d8-db11-88540949c5d3"
      },
      "source": [
        "import seaborn as sns \n",
        "plt.title('Time Computed for each algorithms over 15,700 images')\n",
        "sns.barplot(data['index'],data['time'])"
      ],
      "execution_count": 155,
      "outputs": [
        {
          "output_type": "stream",
          "name": "stderr",
          "text": [
            "/usr/local/lib/python3.7/dist-packages/seaborn/_decorators.py:43: FutureWarning:\n",
            "\n",
            "Pass the following variables as keyword args: x, y. From version 0.12, the only valid positional argument will be `data`, and passing other arguments without an explicit keyword will result in an error or misinterpretation.\n",
            "\n"
          ]
        },
        {
          "output_type": "execute_result",
          "data": {
            "text/plain": [
              "<matplotlib.axes._subplots.AxesSubplot at 0x7ff0609ded10>"
            ]
          },
          "metadata": {},
          "execution_count": 155
        },
        {
          "output_type": "display_data",
          "data": {
            "image/png": "[encoded data removed]",
            "text/plain": [
              "<Figure size 432x288 with 1 Axes>"
            ]
          },
          "metadata": {
            "needs_background": "light"
          }
        }
      ]
    },
    {
      "cell_type": "code",
      "metadata": {
        "colab": {
          "base_uri": "https://localhost:8080/",
          "height": 173
        },
        "id": "hcb44GduY0Tf",
        "outputId": "33a741b3-3b19-4cbf-9b08-aa7e930edd93"
      },
      "source": [
        "data"
      ],
      "execution_count": 153,
      "outputs": [
        {
          "output_type": "execute_result",
          "data": {
            "text/html": [
              "<div>\n",
              "<style scoped>\n",
              "    .dataframe tbody tr th:only-of-type {\n",
              "        vertical-align: middle;\n",
              "    }\n",
              "\n",
              "    .dataframe tbody tr th {\n",
              "        vertical-align: top;\n",
              "    }\n",
              "\n",
              "    .dataframe thead th {\n",
              "        text-align: right;\n",
              "    }\n",
              "</style>\n",
              "<table border=\"1\" class=\"dataframe\">\n",
              "  <thead>\n",
              "    <tr style=\"text-align: right;\">\n",
              "      <th></th>\n",
              "      <th>index</th>\n",
              "      <th>accuracy</th>\n",
              "      <th>precision</th>\n",
              "      <th>f1</th>\n",
              "      <th>recall</th>\n",
              "      <th>classif_error</th>\n",
              "      <th>time</th>\n",
              "    </tr>\n",
              "  </thead>\n",
              "  <tbody>\n",
              "    <tr>\n",
              "      <th>0</th>\n",
              "      <td>CNN</td>\n",
              "      <td>0.879424</td>\n",
              "      <td>0.863875</td>\n",
              "      <td>0.833590</td>\n",
              "      <td>0.814152</td>\n",
              "      <td>0.123571</td>\n",
              "      <td>200</td>\n",
              "    </tr>\n",
              "    <tr>\n",
              "      <th>1</th>\n",
              "      <td>SVM</td>\n",
              "      <td>0.837632</td>\n",
              "      <td>0.830652</td>\n",
              "      <td>0.788877</td>\n",
              "      <td>0.762267</td>\n",
              "      <td>0.253763</td>\n",
              "      <td>6900</td>\n",
              "    </tr>\n",
              "    <tr>\n",
              "      <th>2</th>\n",
              "      <td>RF</td>\n",
              "      <td>0.897021</td>\n",
              "      <td>0.869195</td>\n",
              "      <td>0.856422</td>\n",
              "      <td>0.844737</td>\n",
              "      <td>0.115883</td>\n",
              "      <td>1800</td>\n",
              "    </tr>\n",
              "    <tr>\n",
              "      <th>3</th>\n",
              "      <td>VGG</td>\n",
              "      <td>0.927614</td>\n",
              "      <td>0.887751</td>\n",
              "      <td>0.903542</td>\n",
              "      <td>0.921315</td>\n",
              "      <td>0.076882</td>\n",
              "      <td>780</td>\n",
              "    </tr>\n",
              "  </tbody>\n",
              "</table>\n",
              "</div>"
            ],
            "text/plain": [
              "  index  accuracy  precision        f1    recall  classif_error  time\n",
              "0   CNN  0.879424   0.863875  0.833590  0.814152       0.123571   200\n",
              "1   SVM  0.837632   0.830652  0.788877  0.762267       0.253763  6900\n",
              "2    RF  0.897021   0.869195  0.856422  0.844737       0.115883  1800\n",
              "3   VGG  0.927614   0.887751  0.903542  0.921315       0.076882   780"
            ]
          },
          "metadata": {},
          "execution_count": 153
        }
      ]
    },
    {
      "cell_type": "code",
      "metadata": {
        "colab": {
          "base_uri": "https://localhost:8080/"
        },
        "id": "96Broft8Y2OR",
        "outputId": "b665cedf-0b20-4381-ff94-2d9c40f21139"
      },
      "source": [
        "print(classification_report(results['true'],results['CNN']))"
      ],
      "execution_count": 171,
      "outputs": [
        {
          "output_type": "stream",
          "name": "stdout",
          "text": [
            "              precision    recall  f1-score   support\n",
            "\n",
            "           0       0.76      0.83      0.79      1127\n",
            "           1       0.92      0.92      0.92      3439\n",
            "           2       0.91      0.69      0.79       435\n",
            "\n",
            "    accuracy                           0.88      5001\n",
            "   macro avg       0.86      0.81      0.83      5001\n",
            "weighted avg       0.88      0.88      0.88      5001\n",
            "\n"
          ]
        }
      ]
    },
    {
      "cell_type": "code",
      "metadata": {
        "colab": {
          "base_uri": "https://localhost:8080/"
        },
        "id": "jUIRtDLJkGHp",
        "outputId": "b69a2c61-2136-4f38-9e6f-d75ec7040bbd"
      },
      "source": [
        "print(classification_report(results['true'],results['SVM']))"
      ],
      "execution_count": 172,
      "outputs": [
        {
          "output_type": "stream",
          "name": "stdout",
          "text": [
            "              precision    recall  f1-score   support\n",
            "\n",
            "           0       0.76      0.54      0.63      1127\n",
            "           1       0.85      0.94      0.89      3439\n",
            "           2       0.88      0.81      0.84       435\n",
            "\n",
            "    accuracy                           0.84      5001\n",
            "   macro avg       0.83      0.76      0.79      5001\n",
            "weighted avg       0.83      0.84      0.83      5001\n",
            "\n"
          ]
        }
      ]
    },
    {
      "cell_type": "code",
      "metadata": {
        "colab": {
          "base_uri": "https://localhost:8080/"
        },
        "id": "4tbUi6IIkS3s",
        "outputId": "527049d7-6299-464c-a36b-fafe29730ba5"
      },
      "source": [
        "print(classification_report(results['true'],results['RandomForest']))"
      ],
      "execution_count": 173,
      "outputs": [
        {
          "output_type": "stream",
          "name": "stdout",
          "text": [
            "              precision    recall  f1-score   support\n",
            "\n",
            "           0       0.84      0.81      0.83      1127\n",
            "           1       0.92      0.94      0.93      3439\n",
            "           2       0.85      0.78      0.81       435\n",
            "\n",
            "    accuracy                           0.90      5001\n",
            "   macro avg       0.87      0.84      0.86      5001\n",
            "weighted avg       0.90      0.90      0.90      5001\n",
            "\n"
          ]
        }
      ]
    },
    {
      "cell_type": "code",
      "metadata": {
        "colab": {
          "base_uri": "https://localhost:8080/"
        },
        "id": "W8DUAMQTkU4x",
        "outputId": "70038189-c8f9-4b44-884a-ca0c6827af78"
      },
      "source": [
        "print(classification_report(results['true'],results['VGG']))"
      ],
      "execution_count": 174,
      "outputs": [
        {
          "output_type": "stream",
          "name": "stdout",
          "text": [
            "              precision    recall  f1-score   support\n",
            "\n",
            "           0       0.86      0.89      0.87      1127\n",
            "           1       0.96      0.94      0.95      3439\n",
            "           2       0.84      0.94      0.89       435\n",
            "\n",
            "    accuracy                           0.93      5001\n",
            "   macro avg       0.89      0.92      0.90      5001\n",
            "weighted avg       0.93      0.93      0.93      5001\n",
            "\n"
          ]
        }
      ]
    },
    {
      "cell_type": "code",
      "metadata": {
        "id": "u-YltqMFkegx"
      },
      "source": [
        ""
      ],
      "execution_count": null,
      "outputs": []
    }
  ]
}